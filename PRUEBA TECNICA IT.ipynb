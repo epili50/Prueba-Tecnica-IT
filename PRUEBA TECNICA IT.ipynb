{
 "cells": [
  {
   "cell_type": "markdown",
   "id": "c6b77086",
   "metadata": {},
   "source": [
    "<div style=\"text-align:center;\"><span style=\"font-size: 2em; font-weight:bold\">Prueba técnica Data Science IT Academy<br>\n",
    "Algoritmos de Aprendizaje Supervisado: Clasificación<br>\n",
    "Predicción sobre el turno en el que se producen acidentes de transito en Barcelona</span></div>"
   ]
  },
  {
   "cell_type": "markdown",
   "id": "19ba73f0",
   "metadata": {},
   "source": [
    "# Analisis y limpieza de datos"
   ]
  },
  {
   "cell_type": "code",
   "execution_count": 61,
   "id": "fc7c4139",
   "metadata": {},
   "outputs": [],
   "source": [
    "import pandas as pd\n",
    "import numpy as np\n",
    "import matplotlib.pyplot as plt\n",
    "import seaborn as sns\n",
    "import warnings\n",
    "warnings.filterwarnings(\"ignore\")"
   ]
  },
  {
   "cell_type": "code",
   "execution_count": 75,
   "id": "95ae9d64",
   "metadata": {},
   "outputs": [
    {
     "data": {
      "text/html": [
       "<div>\n",
       "<style scoped>\n",
       "    .dataframe tbody tr th:only-of-type {\n",
       "        vertical-align: middle;\n",
       "    }\n",
       "\n",
       "    .dataframe tbody tr th {\n",
       "        vertical-align: top;\n",
       "    }\n",
       "\n",
       "    .dataframe thead th {\n",
       "        text-align: right;\n",
       "    }\n",
       "</style>\n",
       "<table border=\"1\" class=\"dataframe\">\n",
       "  <thead>\n",
       "    <tr style=\"text-align: right;\">\n",
       "      <th></th>\n",
       "      <th>Numero_expedient</th>\n",
       "      <th>Codi_districte</th>\n",
       "      <th>Nom_districte</th>\n",
       "      <th>Codi_barri</th>\n",
       "      <th>Nom_barri</th>\n",
       "      <th>Codi_carrer</th>\n",
       "      <th>Nom_carrer</th>\n",
       "      <th>Num_postal</th>\n",
       "      <th>Descripcio_dia_setmana</th>\n",
       "      <th>NK_Any</th>\n",
       "      <th>...</th>\n",
       "      <th>Dia_mes</th>\n",
       "      <th>Hora_dia</th>\n",
       "      <th>Descripcio_torn</th>\n",
       "      <th>Descripcio_causa_mediata</th>\n",
       "      <th>Coordenada_UTM_X_ED50</th>\n",
       "      <th>Coordenada_UTM_Y_ED50</th>\n",
       "      <th>Longitud_WGS84</th>\n",
       "      <th>Latitud_WGS84</th>\n",
       "      <th>Longitud</th>\n",
       "      <th>Latitud</th>\n",
       "    </tr>\n",
       "  </thead>\n",
       "  <tbody>\n",
       "    <tr>\n",
       "      <th>0</th>\n",
       "      <td>2023S000699</td>\n",
       "      <td>-1</td>\n",
       "      <td>Desconegut</td>\n",
       "      <td>-1</td>\n",
       "      <td>Desconegut</td>\n",
       "      <td>-1</td>\n",
       "      <td>Rovira (ascendent)                            ...</td>\n",
       "      <td>0</td>\n",
       "      <td>Dissabte</td>\n",
       "      <td>2023</td>\n",
       "      <td>...</td>\n",
       "      <td>4</td>\n",
       "      <td>16</td>\n",
       "      <td>Tarda</td>\n",
       "      <td>Manca d'atenció a la conducció</td>\n",
       "      <td>430443.36</td>\n",
       "      <td>4585232.00</td>\n",
       "      <td>2.166596</td>\n",
       "      <td>41.413783</td>\n",
       "      <td>NaN</td>\n",
       "      <td>NaN</td>\n",
       "    </tr>\n",
       "    <tr>\n",
       "      <th>1</th>\n",
       "      <td>2023S005197</td>\n",
       "      <td>-1</td>\n",
       "      <td>Desconegut</td>\n",
       "      <td>-1</td>\n",
       "      <td>Desconegut</td>\n",
       "      <td>-1</td>\n",
       "      <td>Estatut de Catalunya                          ...</td>\n",
       "      <td>11</td>\n",
       "      <td>Divendres</td>\n",
       "      <td>2023</td>\n",
       "      <td>...</td>\n",
       "      <td>1</td>\n",
       "      <td>13</td>\n",
       "      <td>Matí</td>\n",
       "      <td>No respectar distàncies</td>\n",
       "      <td>429493.73</td>\n",
       "      <td>4587108.15</td>\n",
       "      <td>2.155015</td>\n",
       "      <td>41.430598</td>\n",
       "      <td>NaN</td>\n",
       "      <td>NaN</td>\n",
       "    </tr>\n",
       "    <tr>\n",
       "      <th>2</th>\n",
       "      <td>2023S007430</td>\n",
       "      <td>-1</td>\n",
       "      <td>Desconegut</td>\n",
       "      <td>-1</td>\n",
       "      <td>Desconegut</td>\n",
       "      <td>-1</td>\n",
       "      <td>Rovira (ascendent)                            ...</td>\n",
       "      <td>0</td>\n",
       "      <td>Divendres</td>\n",
       "      <td>2023</td>\n",
       "      <td>...</td>\n",
       "      <td>15</td>\n",
       "      <td>11</td>\n",
       "      <td>Matí</td>\n",
       "      <td>No respectar distàncies</td>\n",
       "      <td>430443.36</td>\n",
       "      <td>4585232.00</td>\n",
       "      <td>2.166596</td>\n",
       "      <td>41.413783</td>\n",
       "      <td>NaN</td>\n",
       "      <td>NaN</td>\n",
       "    </tr>\n",
       "    <tr>\n",
       "      <th>3</th>\n",
       "      <td>2023S000961</td>\n",
       "      <td>-1</td>\n",
       "      <td>Desconegut</td>\n",
       "      <td>-1</td>\n",
       "      <td>Desconegut</td>\n",
       "      <td>-1</td>\n",
       "      <td>Amílcar                                       ...</td>\n",
       "      <td>120</td>\n",
       "      <td>Dissabte</td>\n",
       "      <td>2023</td>\n",
       "      <td>...</td>\n",
       "      <td>28</td>\n",
       "      <td>14</td>\n",
       "      <td>Tarda</td>\n",
       "      <td>No respectat pas de vianants</td>\n",
       "      <td>430955.45</td>\n",
       "      <td>4586335.10</td>\n",
       "      <td>2.172596</td>\n",
       "      <td>41.423762</td>\n",
       "      <td>NaN</td>\n",
       "      <td>NaN</td>\n",
       "    </tr>\n",
       "    <tr>\n",
       "      <th>4</th>\n",
       "      <td>2023S006486</td>\n",
       "      <td>-1</td>\n",
       "      <td>Desconegut</td>\n",
       "      <td>-1</td>\n",
       "      <td>Desconegut</td>\n",
       "      <td>-1</td>\n",
       "      <td>Augusta / Hort de la Vila                     ...</td>\n",
       "      <td>NaN</td>\n",
       "      <td>Dijous</td>\n",
       "      <td>2023</td>\n",
       "      <td>...</td>\n",
       "      <td>2</td>\n",
       "      <td>14</td>\n",
       "      <td>Tarda</td>\n",
       "      <td>Desobeir semàfor</td>\n",
       "      <td>426883.33</td>\n",
       "      <td>4583690.92</td>\n",
       "      <td>2.124189</td>\n",
       "      <td>41.399587</td>\n",
       "      <td>NaN</td>\n",
       "      <td>NaN</td>\n",
       "    </tr>\n",
       "    <tr>\n",
       "      <th>...</th>\n",
       "      <td>...</td>\n",
       "      <td>...</td>\n",
       "      <td>...</td>\n",
       "      <td>...</td>\n",
       "      <td>...</td>\n",
       "      <td>...</td>\n",
       "      <td>...</td>\n",
       "      <td>...</td>\n",
       "      <td>...</td>\n",
       "      <td>...</td>\n",
       "      <td>...</td>\n",
       "      <td>...</td>\n",
       "      <td>...</td>\n",
       "      <td>...</td>\n",
       "      <td>...</td>\n",
       "      <td>...</td>\n",
       "      <td>...</td>\n",
       "      <td>...</td>\n",
       "      <td>...</td>\n",
       "      <td>...</td>\n",
       "      <td>...</td>\n",
       "    </tr>\n",
       "    <tr>\n",
       "      <th>27191</th>\n",
       "      <td>2021S000531</td>\n",
       "      <td>8</td>\n",
       "      <td>Nou Barris</td>\n",
       "      <td>45</td>\n",
       "      <td>Porta</td>\n",
       "      <td>242000</td>\n",
       "      <td>Ciutat de Mallorca</td>\n",
       "      <td>0024 0024</td>\n",
       "      <td>Dimarts</td>\n",
       "      <td>2021</td>\n",
       "      <td>...</td>\n",
       "      <td>2</td>\n",
       "      <td>16</td>\n",
       "      <td>Tarda</td>\n",
       "      <td>Desobeir semàfor</td>\n",
       "      <td>431470.52</td>\n",
       "      <td>4587354.60</td>\n",
       "      <td>NaN</td>\n",
       "      <td>NaN</td>\n",
       "      <td>2.178644</td>\n",
       "      <td>41.432989</td>\n",
       "    </tr>\n",
       "    <tr>\n",
       "      <th>27192</th>\n",
       "      <td>2021S004840</td>\n",
       "      <td>8</td>\n",
       "      <td>Nou Barris</td>\n",
       "      <td>44</td>\n",
       "      <td>Vilapicina i la Torre Llobeta</td>\n",
       "      <td>119003</td>\n",
       "      <td>Fabra i Puig</td>\n",
       "      <td>0181 0181</td>\n",
       "      <td>Divendres</td>\n",
       "      <td>2021</td>\n",
       "      <td>...</td>\n",
       "      <td>3</td>\n",
       "      <td>0</td>\n",
       "      <td>Nit</td>\n",
       "      <td>Desobeir altres senyals</td>\n",
       "      <td>431371.64</td>\n",
       "      <td>4587040.12</td>\n",
       "      <td>NaN</td>\n",
       "      <td>NaN</td>\n",
       "      <td>2.177496</td>\n",
       "      <td>41.430148</td>\n",
       "    </tr>\n",
       "    <tr>\n",
       "      <th>27193</th>\n",
       "      <td>2021S004824</td>\n",
       "      <td>8</td>\n",
       "      <td>Nou Barris</td>\n",
       "      <td>45</td>\n",
       "      <td>Porta</td>\n",
       "      <td>256401</td>\n",
       "      <td>Pintor Alsamora</td>\n",
       "      <td>0001 0001</td>\n",
       "      <td>Dijous</td>\n",
       "      <td>2021</td>\n",
       "      <td>...</td>\n",
       "      <td>2</td>\n",
       "      <td>8</td>\n",
       "      <td>Matí</td>\n",
       "      <td>Manca d'atenció a la conducció</td>\n",
       "      <td>431781.49</td>\n",
       "      <td>4587486.66</td>\n",
       "      <td>NaN</td>\n",
       "      <td>NaN</td>\n",
       "      <td>2.182351</td>\n",
       "      <td>41.434205</td>\n",
       "    </tr>\n",
       "    <tr>\n",
       "      <th>27194</th>\n",
       "      <td>2021S005061</td>\n",
       "      <td>8</td>\n",
       "      <td>Nou Barris</td>\n",
       "      <td>44</td>\n",
       "      <td>Vilapicina i la Torre Llobeta</td>\n",
       "      <td>266100</td>\n",
       "      <td>Prat d'en Roquer</td>\n",
       "      <td>0009 0013</td>\n",
       "      <td>Dilluns</td>\n",
       "      <td>2021</td>\n",
       "      <td>...</td>\n",
       "      <td>13</td>\n",
       "      <td>13</td>\n",
       "      <td>Matí</td>\n",
       "      <td>Manca d'atenció a la conducció</td>\n",
       "      <td>431325.36</td>\n",
       "      <td>4586527.80</td>\n",
       "      <td>NaN</td>\n",
       "      <td>NaN</td>\n",
       "      <td>2.177001</td>\n",
       "      <td>41.425530</td>\n",
       "    </tr>\n",
       "    <tr>\n",
       "      <th>27195</th>\n",
       "      <td>2021S004898</td>\n",
       "      <td>8</td>\n",
       "      <td>Nou Barris</td>\n",
       "      <td>45</td>\n",
       "      <td>Porta</td>\n",
       "      <td>700021</td>\n",
       "      <td>Andreu Nin</td>\n",
       "      <td>0029X0029X</td>\n",
       "      <td>Dilluns</td>\n",
       "      <td>2021</td>\n",
       "      <td>...</td>\n",
       "      <td>6</td>\n",
       "      <td>16</td>\n",
       "      <td>Tarda</td>\n",
       "      <td>Desobeir semàfor</td>\n",
       "      <td>431700.99</td>\n",
       "      <td>4587483.33</td>\n",
       "      <td>NaN</td>\n",
       "      <td>NaN</td>\n",
       "      <td>2.181388</td>\n",
       "      <td>41.434168</td>\n",
       "    </tr>\n",
       "  </tbody>\n",
       "</table>\n",
       "<p>27196 rows × 22 columns</p>\n",
       "</div>"
      ],
      "text/plain": [
       "      Numero_expedient  Codi_districte Nom_districte  Codi_barri  \\\n",
       "0      2023S000699                  -1    Desconegut          -1   \n",
       "1      2023S005197                  -1    Desconegut          -1   \n",
       "2      2023S007430                  -1    Desconegut          -1   \n",
       "3      2023S000961                  -1    Desconegut          -1   \n",
       "4      2023S006486                  -1    Desconegut          -1   \n",
       "...                ...             ...           ...         ...   \n",
       "27191  2021S000531                   8    Nou Barris          45   \n",
       "27192  2021S004840                   8    Nou Barris          44   \n",
       "27193  2021S004824                   8    Nou Barris          45   \n",
       "27194  2021S005061                   8    Nou Barris          44   \n",
       "27195  2021S004898                   8    Nou Barris          45   \n",
       "\n",
       "                           Nom_barri  Codi_carrer  \\\n",
       "0                         Desconegut           -1   \n",
       "1                         Desconegut           -1   \n",
       "2                         Desconegut           -1   \n",
       "3                         Desconegut           -1   \n",
       "4                         Desconegut           -1   \n",
       "...                              ...          ...   \n",
       "27191                          Porta       242000   \n",
       "27192  Vilapicina i la Torre Llobeta       119003   \n",
       "27193                          Porta       256401   \n",
       "27194  Vilapicina i la Torre Llobeta       266100   \n",
       "27195                          Porta       700021   \n",
       "\n",
       "                                              Nom_carrer Num_postal   \\\n",
       "0      Rovira (ascendent)                            ...  0            \n",
       "1      Estatut de Catalunya                          ...  11           \n",
       "2      Rovira (ascendent)                            ...  0            \n",
       "3      Amílcar                                       ...  120          \n",
       "4      Augusta / Hort de la Vila                     ...         NaN   \n",
       "...                                                  ...         ...   \n",
       "27191                                 Ciutat de Mallorca   0024 0024   \n",
       "27192                                       Fabra i Puig   0181 0181   \n",
       "27193                                    Pintor Alsamora   0001 0001   \n",
       "27194                                   Prat d'en Roquer   0009 0013   \n",
       "27195                                         Andreu Nin  0029X0029X   \n",
       "\n",
       "      Descripcio_dia_setmana  NK_Any  ...  Dia_mes Hora_dia  Descripcio_torn  \\\n",
       "0                   Dissabte    2023  ...        4       16            Tarda   \n",
       "1                  Divendres    2023  ...        1       13             Matí   \n",
       "2                  Divendres    2023  ...       15       11             Matí   \n",
       "3                   Dissabte    2023  ...       28       14            Tarda   \n",
       "4                     Dijous    2023  ...        2       14            Tarda   \n",
       "...                      ...     ...  ...      ...      ...              ...   \n",
       "27191                Dimarts    2021  ...        2       16            Tarda   \n",
       "27192              Divendres    2021  ...        3        0              Nit   \n",
       "27193                 Dijous    2021  ...        2        8             Matí   \n",
       "27194                Dilluns    2021  ...       13       13             Matí   \n",
       "27195                Dilluns    2021  ...        6       16            Tarda   \n",
       "\n",
       "             Descripcio_causa_mediata Coordenada_UTM_X_ED50  \\\n",
       "0      Manca d'atenció a la conducció             430443.36   \n",
       "1             No respectar distàncies             429493.73   \n",
       "2             No respectar distàncies             430443.36   \n",
       "3        No respectat pas de vianants             430955.45   \n",
       "4                    Desobeir semàfor             426883.33   \n",
       "...                               ...                   ...   \n",
       "27191                Desobeir semàfor             431470.52   \n",
       "27192         Desobeir altres senyals             431371.64   \n",
       "27193  Manca d'atenció a la conducció             431781.49   \n",
       "27194  Manca d'atenció a la conducció             431325.36   \n",
       "27195                Desobeir semàfor             431700.99   \n",
       "\n",
       "      Coordenada_UTM_Y_ED50  Longitud_WGS84  Latitud_WGS84  Longitud  \\\n",
       "0                4585232.00        2.166596      41.413783       NaN   \n",
       "1                4587108.15        2.155015      41.430598       NaN   \n",
       "2                4585232.00        2.166596      41.413783       NaN   \n",
       "3                4586335.10        2.172596      41.423762       NaN   \n",
       "4                4583690.92        2.124189      41.399587       NaN   \n",
       "...                     ...             ...            ...       ...   \n",
       "27191            4587354.60             NaN            NaN  2.178644   \n",
       "27192            4587040.12             NaN            NaN  2.177496   \n",
       "27193            4587486.66             NaN            NaN  2.182351   \n",
       "27194            4586527.80             NaN            NaN  2.177001   \n",
       "27195            4587483.33             NaN            NaN  2.181388   \n",
       "\n",
       "         Latitud  \n",
       "0            NaN  \n",
       "1            NaN  \n",
       "2            NaN  \n",
       "3            NaN  \n",
       "4            NaN  \n",
       "...          ...  \n",
       "27191  41.432989  \n",
       "27192  41.430148  \n",
       "27193  41.434205  \n",
       "27194  41.425530  \n",
       "27195  41.434168  \n",
       "\n",
       "[27196 rows x 22 columns]"
      ]
     },
     "execution_count": 75,
     "metadata": {},
     "output_type": "execute_result"
    }
   ],
   "source": [
    "# Lista de nombres de archivos CSV\n",
    "archivos = ['2023_accidents_causa_conductor_gu_bcn_.csv', '2022_accidents_causa_conductor_gu_bcn_.csv', \n",
    "            '2021_accidents_causa_conductor_gu_bcn_.csv']\n",
    "\n",
    "# Lista para almacenar los DataFrames\n",
    "dfs = []\n",
    "\n",
    "# Leer cada archivo CSV y almacenar los DataFrames resultantes en la lista 'dfs'\n",
    "for archivo in archivos:\n",
    "    df = pd.read_csv(archivo, sep=',')\n",
    "    dfs.append(df)\n",
    "\n",
    "# Concatenar todos los DataFrames en uno solo\n",
    "df = pd.concat(dfs, ignore_index=True)\n",
    "\n",
    "# Mostrar información sobre el DataFrame resultante\n",
    "df"
   ]
  },
  {
   "cell_type": "markdown",
   "id": "01e74ab5",
   "metadata": {},
   "source": [
    "## Detalle de las columna\n",
    "\n",
    "- Numero_expediente: Número de expediente\n",
    "- Codi_districte: Código de distrito\n",
    "- Nom_districte: Nombre del distrito\n",
    "- Codi_barri: Código de barrio\n",
    "- Nom_barri: Nombre del barrio\n",
    "- Codi_carrer: Código de calle\n",
    "- Nom_carrer: Nombre de la calle\n",
    "- Num_postal: Número postal\n",
    "- Descripción_dia_semana: Nombre del día de la semana\n",
    "- NK_Any: Año\n",
    "- Mes_any: Mes del año\n",
    "- Nom_mes: Nombre del mes\n",
    "- Dia_mes: Día del mes\n",
    "- Hora_dia: Hora del día\n",
    "- Descripción_torn: Descripción del turno\n",
    "- Descripción_causa_mediata: Descripción de la causa mediata\n",
    "- Coordenada_UTM_X_ED50: Coordenada X en formato UTM (ED50)\n",
    "- Coordenada_UTM_Y_ED50: Coordenada Y en formato UTM (ED50)\n",
    "- Longitud_WGS84: Longitud\n",
    "- Latitud_WGS84: Latitud"
   ]
  },
  {
   "cell_type": "markdown",
   "id": "4c70dd81",
   "metadata": {},
   "source": [
    "## Seleccion de los datos"
   ]
  },
  {
   "cell_type": "code",
   "execution_count": 63,
   "id": "a40ed213",
   "metadata": {},
   "outputs": [
    {
     "data": {
      "text/plain": [
       "Index(['Numero_expedient', 'Codi_districte', 'Nom_districte', 'Codi_barri',\n",
       "       'Nom_barri', 'Codi_carrer', 'Nom_carrer', 'Num_postal ',\n",
       "       'Descripcio_dia_setmana', 'NK_Any', 'Mes_any', 'Nom_mes', 'Dia_mes',\n",
       "       'Hora_dia', 'Descripcio_torn', 'Descripcio_causa_mediata',\n",
       "       'Coordenada_UTM_X_ED50', 'Coordenada_UTM_Y_ED50', 'Longitud_WGS84',\n",
       "       'Latitud_WGS84', 'Longitud', 'Latitud'],\n",
       "      dtype='object')"
      ]
     },
     "execution_count": 63,
     "metadata": {},
     "output_type": "execute_result"
    }
   ],
   "source": [
    "df.columns"
   ]
  },
  {
   "cell_type": "markdown",
   "id": "b906864d",
   "metadata": {},
   "source": [
    "Borrado de columna: se decide mantener ditricto, mes dia y turno."
   ]
  },
  {
   "cell_type": "code",
   "execution_count": 64,
   "id": "1dbd03af",
   "metadata": {},
   "outputs": [
    {
     "data": {
      "text/html": [
       "<div>\n",
       "<style scoped>\n",
       "    .dataframe tbody tr th:only-of-type {\n",
       "        vertical-align: middle;\n",
       "    }\n",
       "\n",
       "    .dataframe tbody tr th {\n",
       "        vertical-align: top;\n",
       "    }\n",
       "\n",
       "    .dataframe thead th {\n",
       "        text-align: right;\n",
       "    }\n",
       "</style>\n",
       "<table border=\"1\" class=\"dataframe\">\n",
       "  <thead>\n",
       "    <tr style=\"text-align: right;\">\n",
       "      <th></th>\n",
       "      <th>Codi_districte</th>\n",
       "      <th>Nom_districte</th>\n",
       "      <th>Descripcio_dia_setmana</th>\n",
       "      <th>Nom_mes</th>\n",
       "      <th>Descripcio_torn</th>\n",
       "    </tr>\n",
       "  </thead>\n",
       "  <tbody>\n",
       "    <tr>\n",
       "      <th>0</th>\n",
       "      <td>-1</td>\n",
       "      <td>Desconegut</td>\n",
       "      <td>Dissabte</td>\n",
       "      <td>Febrer</td>\n",
       "      <td>Tarda</td>\n",
       "    </tr>\n",
       "    <tr>\n",
       "      <th>1</th>\n",
       "      <td>-1</td>\n",
       "      <td>Desconegut</td>\n",
       "      <td>Divendres</td>\n",
       "      <td>Setembre</td>\n",
       "      <td>Matí</td>\n",
       "    </tr>\n",
       "    <tr>\n",
       "      <th>2</th>\n",
       "      <td>-1</td>\n",
       "      <td>Desconegut</td>\n",
       "      <td>Divendres</td>\n",
       "      <td>Desembre</td>\n",
       "      <td>Matí</td>\n",
       "    </tr>\n",
       "    <tr>\n",
       "      <th>3</th>\n",
       "      <td>-1</td>\n",
       "      <td>Desconegut</td>\n",
       "      <td>Dissabte</td>\n",
       "      <td>Gener</td>\n",
       "      <td>Tarda</td>\n",
       "    </tr>\n",
       "    <tr>\n",
       "      <th>4</th>\n",
       "      <td>-1</td>\n",
       "      <td>Desconegut</td>\n",
       "      <td>Dijous</td>\n",
       "      <td>Novembre</td>\n",
       "      <td>Tarda</td>\n",
       "    </tr>\n",
       "  </tbody>\n",
       "</table>\n",
       "</div>"
      ],
      "text/plain": [
       "   Codi_districte Nom_districte Descripcio_dia_setmana   Nom_mes  \\\n",
       "0              -1    Desconegut               Dissabte    Febrer   \n",
       "1              -1    Desconegut              Divendres  Setembre   \n",
       "2              -1    Desconegut              Divendres  Desembre   \n",
       "3              -1    Desconegut               Dissabte     Gener   \n",
       "4              -1    Desconegut                 Dijous  Novembre   \n",
       "\n",
       "  Descripcio_torn  \n",
       "0           Tarda  \n",
       "1            Matí  \n",
       "2            Matí  \n",
       "3           Tarda  \n",
       "4           Tarda  "
      ]
     },
     "execution_count": 64,
     "metadata": {},
     "output_type": "execute_result"
    }
   ],
   "source": [
    "#Borrar datos que no se utilizarán para el modelo\n",
    "df = df.drop(['Numero_expedient','Codi_barri',\n",
    "       'Nom_barri', 'Codi_carrer', 'Nom_carrer', 'Num_postal ',\n",
    "       'NK_Any', 'Mes_any', 'Dia_mes','Hora_dia', 'Descripcio_causa_mediata','Coordenada_UTM_X_ED50', 'Coordenada_UTM_Y_ED50', 'Longitud_WGS84',\n",
    "       'Latitud_WGS84', 'Longitud', 'Latitud'], axis=1)\n",
    "df.head()"
   ]
  },
  {
   "cell_type": "code",
   "execution_count": 66,
   "id": "a749fa74",
   "metadata": {},
   "outputs": [
    {
     "name": "stdout",
     "output_type": "stream",
     "text": [
      "El porcentaje de 'Desconegut' en 'Nom_Districte' es: 0.86%\n"
     ]
    }
   ],
   "source": [
    "# Calcular el total de filas en el campo 'Nom_Districte'\n",
    "total_filas = df['Nom_districte'].count()\n",
    "\n",
    "# Contar el número de veces que aparece 'Desconegut' en 'Nom_Districte'\n",
    "num_desconegut = df[df['Nom_districte'] == 'Desconegut']['Nom_districte'].count()\n",
    "\n",
    "# Calcular el porcentaje\n",
    "porcentaje_desconegut = (num_desconegut / total_filas) * 100\n",
    "\n",
    "print(f\"El porcentaje de 'Desconegut' en 'Nom_Districte' es: {porcentaje_desconegut:.2f}%\")"
   ]
  },
  {
   "cell_type": "markdown",
   "id": "bbf7ea89",
   "metadata": {},
   "source": [
    "Se borra los datos en los que se desconoce el districto, por considerarse nulos y porque no son un porcentaje importante de la muestra"
   ]
  },
  {
   "cell_type": "code",
   "execution_count": 5,
   "id": "f1d766da",
   "metadata": {},
   "outputs": [
    {
     "data": {
      "text/html": [
       "<div>\n",
       "<style scoped>\n",
       "    .dataframe tbody tr th:only-of-type {\n",
       "        vertical-align: middle;\n",
       "    }\n",
       "\n",
       "    .dataframe tbody tr th {\n",
       "        vertical-align: top;\n",
       "    }\n",
       "\n",
       "    .dataframe thead th {\n",
       "        text-align: right;\n",
       "    }\n",
       "</style>\n",
       "<table border=\"1\" class=\"dataframe\">\n",
       "  <thead>\n",
       "    <tr style=\"text-align: right;\">\n",
       "      <th></th>\n",
       "      <th>Codi_districte</th>\n",
       "      <th>Nom_districte</th>\n",
       "      <th>Descripcio_dia_setmana</th>\n",
       "      <th>Nom_mes</th>\n",
       "      <th>Descripcio_torn</th>\n",
       "    </tr>\n",
       "  </thead>\n",
       "  <tbody>\n",
       "    <tr>\n",
       "      <th>13</th>\n",
       "      <td>10</td>\n",
       "      <td>Sant Martí</td>\n",
       "      <td>Dimarts</td>\n",
       "      <td>Agost</td>\n",
       "      <td>Nit</td>\n",
       "    </tr>\n",
       "    <tr>\n",
       "      <th>14</th>\n",
       "      <td>10</td>\n",
       "      <td>Sant Martí</td>\n",
       "      <td>Dimarts</td>\n",
       "      <td>Juny</td>\n",
       "      <td>Tarda</td>\n",
       "    </tr>\n",
       "    <tr>\n",
       "      <th>15</th>\n",
       "      <td>10</td>\n",
       "      <td>Sant Martí</td>\n",
       "      <td>Dimecres</td>\n",
       "      <td>Juny</td>\n",
       "      <td>Tarda</td>\n",
       "    </tr>\n",
       "    <tr>\n",
       "      <th>16</th>\n",
       "      <td>10</td>\n",
       "      <td>Sant Martí</td>\n",
       "      <td>Dimarts</td>\n",
       "      <td>Setembre</td>\n",
       "      <td>Matí</td>\n",
       "    </tr>\n",
       "    <tr>\n",
       "      <th>17</th>\n",
       "      <td>10</td>\n",
       "      <td>Sant Martí</td>\n",
       "      <td>Dilluns</td>\n",
       "      <td>Maig</td>\n",
       "      <td>Matí</td>\n",
       "    </tr>\n",
       "  </tbody>\n",
       "</table>\n",
       "</div>"
      ],
      "text/plain": [
       "    Codi_districte Nom_districte Descripcio_dia_setmana   Nom_mes  \\\n",
       "13              10    Sant Martí                Dimarts     Agost   \n",
       "14              10    Sant Martí                Dimarts      Juny   \n",
       "15              10    Sant Martí               Dimecres      Juny   \n",
       "16              10    Sant Martí                Dimarts  Setembre   \n",
       "17              10    Sant Martí                Dilluns      Maig   \n",
       "\n",
       "   Descripcio_torn  \n",
       "13             Nit  \n",
       "14           Tarda  \n",
       "15           Tarda  \n",
       "16            Matí  \n",
       "17            Matí  "
      ]
     },
     "execution_count": 5,
     "metadata": {},
     "output_type": "execute_result"
    }
   ],
   "source": [
    "#Borrar los accidentes donde no se conoce el districto\n",
    "df = df[df['Nom_districte'] != 'Desconegut']\n",
    "\n",
    "df.head()"
   ]
  },
  {
   "cell_type": "markdown",
   "id": "e51e4217",
   "metadata": {},
   "source": [
    "## Análisis preliminar de los datos"
   ]
  },
  {
   "cell_type": "code",
   "execution_count": 6,
   "id": "1ccdd863",
   "metadata": {},
   "outputs": [
    {
     "data": {
      "text/plain": [
       "Codi_districte            10\n",
       "Nom_districte             10\n",
       "Descripcio_dia_setmana     7\n",
       "Nom_mes                   12\n",
       "Descripcio_torn            3\n",
       "dtype: int64"
      ]
     },
     "execution_count": 6,
     "metadata": {},
     "output_type": "execute_result"
    }
   ],
   "source": [
    "df.nunique()"
   ]
  },
  {
   "cell_type": "code",
   "execution_count": 7,
   "id": "9667563e",
   "metadata": {},
   "outputs": [
    {
     "name": "stdout",
     "output_type": "stream",
     "text": [
      "<class 'pandas.core.frame.DataFrame'>\n",
      "Int64Index: 26962 entries, 13 to 27195\n",
      "Data columns (total 5 columns):\n",
      " #   Column                  Non-Null Count  Dtype \n",
      "---  ------                  --------------  ----- \n",
      " 0   Codi_districte          26962 non-null  int64 \n",
      " 1   Nom_districte           26962 non-null  object\n",
      " 2   Descripcio_dia_setmana  26962 non-null  object\n",
      " 3   Nom_mes                 26962 non-null  object\n",
      " 4   Descripcio_torn         26962 non-null  object\n",
      "dtypes: int64(1), object(4)\n",
      "memory usage: 1.2+ MB\n"
     ]
    }
   ],
   "source": [
    "df.info()"
   ]
  },
  {
   "cell_type": "code",
   "execution_count": 67,
   "id": "9deda822",
   "metadata": {},
   "outputs": [
    {
     "data": {
      "image/png": "[encoded data removed]",
      "text/plain": [
       "<Figure size 1080x1080 with 1 Axes>"
      ]
     },
     "metadata": {},
     "output_type": "display_data"
    }
   ],
   "source": [
    "# cuanta de cada causa del accidentes\n",
    "causas = df['Descripcio_dia_setmana'].value_counts()\n",
    "\n",
    "# Obtener las etiquetas y colores correspondientes\n",
    "labels = causas.index\n",
    "colors = plt.cm.tab10.colors[:len(labels)]\n",
    "\n",
    "# Graficar el conteo de 'Descripcio_causa_mediata' sin etiquetas\n",
    "plot = causas.plot(kind='pie', autopct='%.2f', figsize=(15, 15), colors=colors)\n",
    "\n",
    "plot.set_ylabel('')  # Establecer el eje y en blanco\n",
    "\n",
    "plt.title('Porcentaje de accidente por día')\n",
    "plt.show()\n"
   ]
  },
  {
   "cell_type": "code",
   "execution_count": 9,
   "id": "9f9beec6",
   "metadata": {},
   "outputs": [
    {
     "data": {
      "image/png": "[encoded data removed]",
      "text/plain": [
       "<Figure size 1080x576 with 1 Axes>"
      ]
     },
     "metadata": {
      "needs_background": "light"
     },
     "output_type": "display_data"
    }
   ],
   "source": [
    "# Obtener los valores únicos y sus conteos por distrito\n",
    "districto = df['Nom_districte'].value_counts()\n",
    "\n",
    "# Calcular los porcentajes del total\n",
    "porcentajes = districto / districto.sum() * 100\n",
    "\n",
    "# Graficar los porcentajes del total como un gráfico de barras\n",
    "porcentajes.plot(kind='bar', figsize=(15, 8), color='skyblue')\n",
    "\n",
    "plt.xlabel('Distrito')\n",
    "plt.ylabel('Porcentaje del total')\n",
    "plt.title('Porcentaje de accidentes por districto')\n",
    "\n",
    "# Agregar etiquetas de porcentaje encima de cada barra\n",
    "for i, porcentaje in enumerate(porcentajes):\n",
    "    plt.text(i, porcentaje, f'{porcentaje:.2f}%', ha='center', va='bottom')\n",
    "\n",
    "plt.show()\n"
   ]
  },
  {
   "cell_type": "code",
   "execution_count": 10,
   "id": "219e498f",
   "metadata": {},
   "outputs": [
    {
     "data": {
      "image/png": "[encoded data removed]",
      "text/plain": [
       "<Figure size 1080x576 with 1 Axes>"
      ]
     },
     "metadata": {
      "needs_background": "light"
     },
     "output_type": "display_data"
    }
   ],
   "source": [
    "# Obtener los valores únicos y sus conteos\n",
    "turno = df['Descripcio_torn'].value_counts()\n",
    "\n",
    "# Ordenar los datos por el recuento de accidentes en orden ascendente\n",
    "turno = turno.sort_values(ascending=True)\n",
    "\n",
    "# Graficar el conteo de 'Nombre del districto' como un gráfico de barras\n",
    "turno.plot(kind='barh', figsize=(15, 8), color='green')\n",
    "\n",
    "plt.xlabel('Cantidad de accidentes')\n",
    "plt.ylabel('Turno')\n",
    "plt.title('Accidentes por Turno')\n",
    "\n",
    "plt.show()"
   ]
  },
  {
   "cell_type": "code",
   "execution_count": 11,
   "id": "a78c6e24",
   "metadata": {},
   "outputs": [
    {
     "name": "stdout",
     "output_type": "stream",
     "text": [
      "     Mes Porcentaje\n",
      " Octubre      9.39%\n",
      "    Juny      9.18%\n",
      "Novembre      9.14%\n",
      "    Maig      9.01%\n",
      "  Juliol      8.95%\n",
      "Desembre      8.47%\n",
      "    Març      8.30%\n",
      "   Abril      8.09%\n",
      "Setembre      8.03%\n",
      "  Febrer      7.60%\n",
      "   Gener      7.18%\n",
      "   Agost      6.66%\n"
     ]
    }
   ],
   "source": [
    "# Calcular el recuento de accidentes por mes\n",
    "mes = df['Nom_mes'].value_counts()\n",
    "\n",
    "# Calcular los porcentajes para cada mes\n",
    "porcentajes = mes / mes.sum() * 100\n",
    "\n",
    "# Crear un DataFrame con los porcentajes y sus correspondientes nombres de mes\n",
    "mes = pd.DataFrame({'Mes': porcentajes.index, 'Porcentaje': porcentajes.values})\n",
    "\n",
    "# Formatear los porcentajes con dos decimales y el símbolo %\n",
    "mes['Porcentaje'] = mes['Porcentaje'].apply(lambda x: '{:.2f}%'.format(x))\n",
    "\n",
    "print(mes.rename_axis('Porcentaje de accidentes por mes').to_string(index=False))\n"
   ]
  },
  {
   "cell_type": "markdown",
   "id": "6add7640",
   "metadata": {},
   "source": [
    "# Aplicación del modelo predictivo\n"
   ]
  },
  {
   "cell_type": "markdown",
   "id": "fea35565",
   "metadata": {},
   "source": [
    "## Preparación de los datos"
   ]
  },
  {
   "cell_type": "markdown",
   "id": "49503e80",
   "metadata": {},
   "source": [
    "A partir de los datos, se crean columnas que sean numéricas para procesarlas."
   ]
  },
  {
   "cell_type": "code",
   "execution_count": 12,
   "id": "b1c85df4",
   "metadata": {},
   "outputs": [
    {
     "data": {
      "text/html": [
       "<div>\n",
       "<style scoped>\n",
       "    .dataframe tbody tr th:only-of-type {\n",
       "        vertical-align: middle;\n",
       "    }\n",
       "\n",
       "    .dataframe tbody tr th {\n",
       "        vertical-align: top;\n",
       "    }\n",
       "\n",
       "    .dataframe thead th {\n",
       "        text-align: right;\n",
       "    }\n",
       "</style>\n",
       "<table border=\"1\" class=\"dataframe\">\n",
       "  <thead>\n",
       "    <tr style=\"text-align: right;\">\n",
       "      <th></th>\n",
       "      <th>Codi_districte</th>\n",
       "      <th>Nom_districte</th>\n",
       "      <th>Descripcio_dia_setmana</th>\n",
       "      <th>Nom_mes</th>\n",
       "      <th>Descripcio_torn</th>\n",
       "      <th>Dia_Numero</th>\n",
       "      <th>Turno_Numero</th>\n",
       "      <th>Mes_Numero</th>\n",
       "    </tr>\n",
       "  </thead>\n",
       "  <tbody>\n",
       "    <tr>\n",
       "      <th>13</th>\n",
       "      <td>10</td>\n",
       "      <td>Sant Martí</td>\n",
       "      <td>Dimarts</td>\n",
       "      <td>Agost</td>\n",
       "      <td>Nit</td>\n",
       "      <td>3</td>\n",
       "      <td>2</td>\n",
       "      <td>8</td>\n",
       "    </tr>\n",
       "    <tr>\n",
       "      <th>14</th>\n",
       "      <td>10</td>\n",
       "      <td>Sant Martí</td>\n",
       "      <td>Dimarts</td>\n",
       "      <td>Juny</td>\n",
       "      <td>Tarda</td>\n",
       "      <td>3</td>\n",
       "      <td>1</td>\n",
       "      <td>6</td>\n",
       "    </tr>\n",
       "    <tr>\n",
       "      <th>15</th>\n",
       "      <td>10</td>\n",
       "      <td>Sant Martí</td>\n",
       "      <td>Dimecres</td>\n",
       "      <td>Juny</td>\n",
       "      <td>Tarda</td>\n",
       "      <td>4</td>\n",
       "      <td>1</td>\n",
       "      <td>6</td>\n",
       "    </tr>\n",
       "    <tr>\n",
       "      <th>16</th>\n",
       "      <td>10</td>\n",
       "      <td>Sant Martí</td>\n",
       "      <td>Dimarts</td>\n",
       "      <td>Setembre</td>\n",
       "      <td>Matí</td>\n",
       "      <td>3</td>\n",
       "      <td>0</td>\n",
       "      <td>9</td>\n",
       "    </tr>\n",
       "    <tr>\n",
       "      <th>17</th>\n",
       "      <td>10</td>\n",
       "      <td>Sant Martí</td>\n",
       "      <td>Dilluns</td>\n",
       "      <td>Maig</td>\n",
       "      <td>Matí</td>\n",
       "      <td>2</td>\n",
       "      <td>0</td>\n",
       "      <td>5</td>\n",
       "    </tr>\n",
       "    <tr>\n",
       "      <th>...</th>\n",
       "      <td>...</td>\n",
       "      <td>...</td>\n",
       "      <td>...</td>\n",
       "      <td>...</td>\n",
       "      <td>...</td>\n",
       "      <td>...</td>\n",
       "      <td>...</td>\n",
       "      <td>...</td>\n",
       "    </tr>\n",
       "    <tr>\n",
       "      <th>27191</th>\n",
       "      <td>8</td>\n",
       "      <td>Nou Barris</td>\n",
       "      <td>Dimarts</td>\n",
       "      <td>Febrer</td>\n",
       "      <td>Tarda</td>\n",
       "      <td>3</td>\n",
       "      <td>1</td>\n",
       "      <td>2</td>\n",
       "    </tr>\n",
       "    <tr>\n",
       "      <th>27192</th>\n",
       "      <td>8</td>\n",
       "      <td>Nou Barris</td>\n",
       "      <td>Divendres</td>\n",
       "      <td>Setembre</td>\n",
       "      <td>Nit</td>\n",
       "      <td>6</td>\n",
       "      <td>2</td>\n",
       "      <td>9</td>\n",
       "    </tr>\n",
       "    <tr>\n",
       "      <th>27193</th>\n",
       "      <td>8</td>\n",
       "      <td>Nou Barris</td>\n",
       "      <td>Dijous</td>\n",
       "      <td>Setembre</td>\n",
       "      <td>Matí</td>\n",
       "      <td>5</td>\n",
       "      <td>0</td>\n",
       "      <td>9</td>\n",
       "    </tr>\n",
       "    <tr>\n",
       "      <th>27194</th>\n",
       "      <td>8</td>\n",
       "      <td>Nou Barris</td>\n",
       "      <td>Dilluns</td>\n",
       "      <td>Setembre</td>\n",
       "      <td>Matí</td>\n",
       "      <td>2</td>\n",
       "      <td>0</td>\n",
       "      <td>9</td>\n",
       "    </tr>\n",
       "    <tr>\n",
       "      <th>27195</th>\n",
       "      <td>8</td>\n",
       "      <td>Nou Barris</td>\n",
       "      <td>Dilluns</td>\n",
       "      <td>Setembre</td>\n",
       "      <td>Tarda</td>\n",
       "      <td>2</td>\n",
       "      <td>1</td>\n",
       "      <td>9</td>\n",
       "    </tr>\n",
       "  </tbody>\n",
       "</table>\n",
       "<p>26962 rows × 8 columns</p>\n",
       "</div>"
      ],
      "text/plain": [
       "       Codi_districte Nom_districte Descripcio_dia_setmana   Nom_mes  \\\n",
       "13                 10    Sant Martí                Dimarts     Agost   \n",
       "14                 10    Sant Martí                Dimarts      Juny   \n",
       "15                 10    Sant Martí               Dimecres      Juny   \n",
       "16                 10    Sant Martí                Dimarts  Setembre   \n",
       "17                 10    Sant Martí                Dilluns      Maig   \n",
       "...               ...           ...                    ...       ...   \n",
       "27191               8    Nou Barris                Dimarts    Febrer   \n",
       "27192               8    Nou Barris              Divendres  Setembre   \n",
       "27193               8    Nou Barris                 Dijous  Setembre   \n",
       "27194               8    Nou Barris                Dilluns  Setembre   \n",
       "27195               8    Nou Barris                Dilluns  Setembre   \n",
       "\n",
       "      Descripcio_torn  Dia_Numero  Turno_Numero  Mes_Numero  \n",
       "13                Nit           3             2           8  \n",
       "14              Tarda           3             1           6  \n",
       "15              Tarda           4             1           6  \n",
       "16               Matí           3             0           9  \n",
       "17               Matí           2             0           5  \n",
       "...               ...         ...           ...         ...  \n",
       "27191           Tarda           3             1           2  \n",
       "27192             Nit           6             2           9  \n",
       "27193            Matí           5             0           9  \n",
       "27194            Matí           2             0           9  \n",
       "27195           Tarda           2             1           9  \n",
       "\n",
       "[26962 rows x 8 columns]"
      ]
     },
     "execution_count": 12,
     "metadata": {},
     "output_type": "execute_result"
    }
   ],
   "source": [
    "# Definir un diccionario que mapee cada día de la semana a su número correspondiente, comenzando desde el domingo\n",
    "dias_dict = {\n",
    "    'Diumenge': 1,\n",
    "    'Dilluns': 2,\n",
    "    'Dimarts': 3,\n",
    "    'Dimecres': 4,\n",
    "    'Dijous': 5,\n",
    "    'Divendres': 6,\n",
    "    'Dissabte': 7\n",
    "}\n",
    "\n",
    "# Crear una nueva columna 'Dia_Numero' asignando el número correspondiente a cada día de la semana\n",
    "df['Dia_Numero'] = df['Descripcio_dia_setmana'].map(dias_dict)\n",
    "\n",
    "# Definir un diccionario que mapee cada turno del día a su número correspondiente\n",
    "turno_dict = {\n",
    "    'Matí': 0,\n",
    "    'Tarda': 1,\n",
    "    'Nit': 2,\n",
    "}\n",
    "\n",
    "# Crear una nueva columna 'Turno_Numero' asignando el número correspondiente a cada turno del día\n",
    "df['Turno_Numero'] = df['Descripcio_torn'].map(turno_dict)\n",
    "\n",
    "# Definir un diccionario que mapee cada mes a su trimestre correspondiente \n",
    "mes_dict = {\n",
    "    'Gener': 1,\n",
    "    'Febrer': 2,\n",
    "    'Març': 3,\n",
    "    'Abril': 4,\n",
    "    'Maig': 5,\n",
    "    'Juny': 6,\n",
    "    'Juliol': 7,\n",
    "    'Agost': 8,\n",
    "    'Setembre': 9,\n",
    "    'Octubre': 10,\n",
    "    'Novembre': 11,\n",
    "    'Desembre': 12\n",
    "}\n",
    "\n",
    "# Crear una nueva columna 'Mes_Numero' asignando el número correspondiente a cada mes\n",
    "df['Mes_Numero'] = df['Nom_mes'].map(mes_dict)\n",
    "\n",
    "\n",
    "df"
   ]
  },
  {
   "cell_type": "markdown",
   "id": "65920519",
   "metadata": {},
   "source": [
    "Se crea un nuevo Data Frame solo con los campos numéricos, sobre el cual se aplicará el modelo"
   ]
  },
  {
   "cell_type": "code",
   "execution_count": 15,
   "id": "125c459f",
   "metadata": {},
   "outputs": [
    {
     "data": {
      "text/html": [
       "<div>\n",
       "<style scoped>\n",
       "    .dataframe tbody tr th:only-of-type {\n",
       "        vertical-align: middle;\n",
       "    }\n",
       "\n",
       "    .dataframe tbody tr th {\n",
       "        vertical-align: top;\n",
       "    }\n",
       "\n",
       "    .dataframe thead th {\n",
       "        text-align: right;\n",
       "    }\n",
       "</style>\n",
       "<table border=\"1\" class=\"dataframe\">\n",
       "  <thead>\n",
       "    <tr style=\"text-align: right;\">\n",
       "      <th></th>\n",
       "      <th>Turno_Numero</th>\n",
       "      <th>Codi_districte</th>\n",
       "      <th>Mes_Numero</th>\n",
       "      <th>Dia_Numero</th>\n",
       "    </tr>\n",
       "  </thead>\n",
       "  <tbody>\n",
       "    <tr>\n",
       "      <th>13</th>\n",
       "      <td>2</td>\n",
       "      <td>10</td>\n",
       "      <td>8</td>\n",
       "      <td>3</td>\n",
       "    </tr>\n",
       "    <tr>\n",
       "      <th>14</th>\n",
       "      <td>1</td>\n",
       "      <td>10</td>\n",
       "      <td>6</td>\n",
       "      <td>3</td>\n",
       "    </tr>\n",
       "    <tr>\n",
       "      <th>15</th>\n",
       "      <td>1</td>\n",
       "      <td>10</td>\n",
       "      <td>6</td>\n",
       "      <td>4</td>\n",
       "    </tr>\n",
       "    <tr>\n",
       "      <th>16</th>\n",
       "      <td>0</td>\n",
       "      <td>10</td>\n",
       "      <td>9</td>\n",
       "      <td>3</td>\n",
       "    </tr>\n",
       "    <tr>\n",
       "      <th>17</th>\n",
       "      <td>0</td>\n",
       "      <td>10</td>\n",
       "      <td>5</td>\n",
       "      <td>2</td>\n",
       "    </tr>\n",
       "    <tr>\n",
       "      <th>...</th>\n",
       "      <td>...</td>\n",
       "      <td>...</td>\n",
       "      <td>...</td>\n",
       "      <td>...</td>\n",
       "    </tr>\n",
       "    <tr>\n",
       "      <th>27191</th>\n",
       "      <td>1</td>\n",
       "      <td>8</td>\n",
       "      <td>2</td>\n",
       "      <td>3</td>\n",
       "    </tr>\n",
       "    <tr>\n",
       "      <th>27192</th>\n",
       "      <td>2</td>\n",
       "      <td>8</td>\n",
       "      <td>9</td>\n",
       "      <td>6</td>\n",
       "    </tr>\n",
       "    <tr>\n",
       "      <th>27193</th>\n",
       "      <td>0</td>\n",
       "      <td>8</td>\n",
       "      <td>9</td>\n",
       "      <td>5</td>\n",
       "    </tr>\n",
       "    <tr>\n",
       "      <th>27194</th>\n",
       "      <td>0</td>\n",
       "      <td>8</td>\n",
       "      <td>9</td>\n",
       "      <td>2</td>\n",
       "    </tr>\n",
       "    <tr>\n",
       "      <th>27195</th>\n",
       "      <td>1</td>\n",
       "      <td>8</td>\n",
       "      <td>9</td>\n",
       "      <td>2</td>\n",
       "    </tr>\n",
       "  </tbody>\n",
       "</table>\n",
       "<p>26962 rows × 4 columns</p>\n",
       "</div>"
      ],
      "text/plain": [
       "       Turno_Numero  Codi_districte  Mes_Numero  Dia_Numero\n",
       "13                2              10           8           3\n",
       "14                1              10           6           3\n",
       "15                1              10           6           4\n",
       "16                0              10           9           3\n",
       "17                0              10           5           2\n",
       "...             ...             ...         ...         ...\n",
       "27191             1               8           2           3\n",
       "27192             2               8           9           6\n",
       "27193             0               8           9           5\n",
       "27194             0               8           9           2\n",
       "27195             1               8           9           2\n",
       "\n",
       "[26962 rows x 4 columns]"
      ]
     },
     "execution_count": 15,
     "metadata": {},
     "output_type": "execute_result"
    }
   ],
   "source": [
    "colum_num = ['Turno_Numero','Codi_districte', 'Mes_Numero', 'Dia_Numero']\n",
    "dfTran = df[colum_num].copy()\n",
    "\n",
    "dfTran"
   ]
  },
  {
   "cell_type": "markdown",
   "id": "64141bbd",
   "metadata": {},
   "source": [
    "## Preprocesado"
   ]
  },
  {
   "cell_type": "code",
   "execution_count": 16,
   "id": "c4f26e77",
   "metadata": {},
   "outputs": [
    {
     "data": {
      "text/plain": [
       "Turno_Numero      int64\n",
       "Codi_districte    int64\n",
       "Mes_Numero        int64\n",
       "Dia_Numero        int64\n",
       "dtype: object"
      ]
     },
     "execution_count": 16,
     "metadata": {},
     "output_type": "execute_result"
    }
   ],
   "source": [
    "dfTran = dfTran.astype('int64')\n",
    "dfTran.dtypes"
   ]
  },
  {
   "cell_type": "markdown",
   "id": "9cf29b56",
   "metadata": {},
   "source": [
    "Graficos de las distribución de las muestras"
   ]
  },
  {
   "cell_type": "code",
   "execution_count": 17,
   "id": "e3b9d7b9",
   "metadata": {
    "scrolled": false
   },
   "outputs": [
    {
     "data": {
      "text/plain": [
       "<Figure size 432x288 with 0 Axes>"
      ]
     },
     "metadata": {},
     "output_type": "display_data"
    },
    {
     "data": {
      "image/png": "[encoded data removed]",
      "text/plain": [
       "<Figure size 576x360 with 2 Axes>"
      ]
     },
     "metadata": {},
     "output_type": "display_data"
    },
    {
     "data": {
      "text/plain": [
       "<Figure size 576x360 with 0 Axes>"
      ]
     },
     "metadata": {},
     "output_type": "display_data"
    },
    {
     "data": {
      "image/png": "[encoded data removed]",
      "text/plain": [
       "<Figure size 576x360 with 2 Axes>"
      ]
     },
     "metadata": {},
     "output_type": "display_data"
    },
    {
     "data": {
      "text/plain": [
       "<Figure size 576x360 with 0 Axes>"
      ]
     },
     "metadata": {},
     "output_type": "display_data"
    },
    {
     "data": {
      "image/png": "[encoded data removed]",
      "text/plain": [
       "<Figure size 576x360 with 2 Axes>"
      ]
     },
     "metadata": {},
     "output_type": "display_data"
    },
    {
     "data": {
      "text/plain": [
       "<Figure size 576x360 with 0 Axes>"
      ]
     },
     "metadata": {},
     "output_type": "display_data"
    },
    {
     "data": {
      "image/png": "[encoded data removed]",
      "text/plain": [
       "<Figure size 576x360 with 2 Axes>"
      ]
     },
     "metadata": {},
     "output_type": "display_data"
    }
   ],
   "source": [
    "for i in dfTran.columns:\n",
    "    plt.figure()\n",
    "    plt.tight_layout()\n",
    "    sns.set(rc={\"figure.figsize\":(8, 5)})\n",
    "    f, (ax_box, ax_hist) = plt.subplots(2, sharex=True)\n",
    "    plt.gca().set(xlabel= i,ylabel='Frequency')\n",
    "    sns.boxplot(df[i],  ax=ax_box , linewidth= 1.0)\n",
    "    sns.histplot(df[i], ax=ax_hist , bins = 10,kde=True)"
   ]
  },
  {
   "cell_type": "markdown",
   "id": "80617740",
   "metadata": {},
   "source": [
    "Correlación de los datos de la muestra"
   ]
  },
  {
   "cell_type": "code",
   "execution_count": 18,
   "id": "73f7ccf9",
   "metadata": {},
   "outputs": [
    {
     "data": {
      "image/png": "[encoded data removed]",
      "text/plain": [
       "<Figure size 1080x1080 with 2 Axes>"
      ]
     },
     "metadata": {},
     "output_type": "display_data"
    }
   ],
   "source": [
    "#Medir la correlación de las variables\n",
    "plt.figure(figsize=(15, 15))\n",
    "corr = dfTran.corr()\n",
    "sns.heatmap(corr, annot=True)\n",
    "plt.show()"
   ]
  },
  {
   "cell_type": "markdown",
   "id": "41537e06",
   "metadata": {},
   "source": [
    "Medición de p-value"
   ]
  },
  {
   "cell_type": "code",
   "execution_count": 19,
   "id": "8bd0705c",
   "metadata": {},
   "outputs": [
    {
     "name": "stdout",
     "output_type": "stream",
     "text": [
      "Para la variable  Turno_Numero con un p-value de  0.0\n",
      "Probablemente no Gaussiana\n",
      "\n",
      "Para la variable  Codi_districte con un p-value de  0.0\n",
      "Probablemente no Gaussiana\n",
      "\n",
      "Para la variable  Mes_Numero con un p-value de  0.0\n",
      "Probablemente no Gaussiana\n",
      "\n",
      "Para la variable  Dia_Numero con un p-value de  0.0\n",
      "Probablemente no Gaussiana\n",
      "\n"
     ]
    }
   ],
   "source": [
    "from scipy import stats\n",
    "\n",
    "\n",
    "for i in dfTran:\n",
    "    shapiro_test = stats.shapiro(dfTran[i])\n",
    "    print('Para la variable ', i, \"con un p-value de \", shapiro_test.pvalue)\n",
    "    if shapiro_test.pvalue>0.05:\n",
    "        print('Probablemente Gaussiana\\n')\n",
    "    else:\n",
    "        print(\"Probablemente no Gaussiana\\n\")"
   ]
  },
  {
   "cell_type": "markdown",
   "id": "22a2f3ed",
   "metadata": {},
   "source": [
    "Normalizaci{on de los datos"
   ]
  },
  {
   "cell_type": "code",
   "execution_count": 20,
   "id": "8b93e72b",
   "metadata": {},
   "outputs": [
    {
     "data": {
      "text/html": [
       "<div>\n",
       "<style scoped>\n",
       "    .dataframe tbody tr th:only-of-type {\n",
       "        vertical-align: middle;\n",
       "    }\n",
       "\n",
       "    .dataframe tbody tr th {\n",
       "        vertical-align: top;\n",
       "    }\n",
       "\n",
       "    .dataframe thead th {\n",
       "        text-align: right;\n",
       "    }\n",
       "</style>\n",
       "<table border=\"1\" class=\"dataframe\">\n",
       "  <thead>\n",
       "    <tr style=\"text-align: right;\">\n",
       "      <th></th>\n",
       "      <th>Turno_Numero</th>\n",
       "      <th>Codi_districte</th>\n",
       "      <th>Mes_Numero</th>\n",
       "      <th>Dia_Numero</th>\n",
       "    </tr>\n",
       "  </thead>\n",
       "  <tbody>\n",
       "    <tr>\n",
       "      <th>13</th>\n",
       "      <td>2</td>\n",
       "      <td>1.0</td>\n",
       "      <td>0.636364</td>\n",
       "      <td>0.333333</td>\n",
       "    </tr>\n",
       "    <tr>\n",
       "      <th>14</th>\n",
       "      <td>1</td>\n",
       "      <td>1.0</td>\n",
       "      <td>0.454545</td>\n",
       "      <td>0.333333</td>\n",
       "    </tr>\n",
       "    <tr>\n",
       "      <th>15</th>\n",
       "      <td>1</td>\n",
       "      <td>1.0</td>\n",
       "      <td>0.454545</td>\n",
       "      <td>0.500000</td>\n",
       "    </tr>\n",
       "    <tr>\n",
       "      <th>16</th>\n",
       "      <td>0</td>\n",
       "      <td>1.0</td>\n",
       "      <td>0.727273</td>\n",
       "      <td>0.333333</td>\n",
       "    </tr>\n",
       "    <tr>\n",
       "      <th>17</th>\n",
       "      <td>0</td>\n",
       "      <td>1.0</td>\n",
       "      <td>0.363636</td>\n",
       "      <td>0.166667</td>\n",
       "    </tr>\n",
       "  </tbody>\n",
       "</table>\n",
       "</div>"
      ],
      "text/plain": [
       "    Turno_Numero  Codi_districte  Mes_Numero  Dia_Numero\n",
       "13             2             1.0    0.636364    0.333333\n",
       "14             1             1.0    0.454545    0.333333\n",
       "15             1             1.0    0.454545    0.500000\n",
       "16             0             1.0    0.727273    0.333333\n",
       "17             0             1.0    0.363636    0.166667"
      ]
     },
     "execution_count": 20,
     "metadata": {},
     "output_type": "execute_result"
    }
   ],
   "source": [
    "#Normalización de los datos\n",
    "from sklearn import preprocessing \n",
    "\n",
    "columnsN = ['Codi_districte', 'Mes_Numero', 'Dia_Numero']\n",
    "scalerNorm = preprocessing.MinMaxScaler().fit(dfTran[columnsN])\n",
    "dfTran[columnsN] = scalerNorm.transform(dfTran[columnsN])\n",
    "\n",
    "dfTran.head()"
   ]
  },
  {
   "cell_type": "markdown",
   "id": "688e98f2",
   "metadata": {},
   "source": [
    "Conversión de los datos a categóricos"
   ]
  },
  {
   "cell_type": "code",
   "execution_count": 21,
   "id": "812b6e92",
   "metadata": {},
   "outputs": [
    {
     "data": {
      "text/plain": [
       "Turno_Numero      category\n",
       "Codi_districte    category\n",
       "Mes_Numero        category\n",
       "Dia_Numero        category\n",
       "dtype: object"
      ]
     },
     "execution_count": 21,
     "metadata": {},
     "output_type": "execute_result"
    }
   ],
   "source": [
    "# Convertir la columna 'Causa_Numero' a tipo de dato categórico\n",
    "#dfTran['Causa_Numero'] = dfTran['Causa_Numero'].astype('category')\n",
    "dfTran = dfTran.astype('category')\n",
    "\n",
    "dfTran.dtypes"
   ]
  },
  {
   "cell_type": "markdown",
   "id": "565a9a6d",
   "metadata": {},
   "source": [
    "# Modelo predictivo de clasificación"
   ]
  },
  {
   "cell_type": "markdown",
   "id": "c41ca838",
   "metadata": {},
   "source": [
    "## División de Test y Train"
   ]
  },
  {
   "cell_type": "code",
   "execution_count": 22,
   "id": "e9193bb4",
   "metadata": {},
   "outputs": [
    {
     "data": {
      "text/html": [
       "<div>\n",
       "<style scoped>\n",
       "    .dataframe tbody tr th:only-of-type {\n",
       "        vertical-align: middle;\n",
       "    }\n",
       "\n",
       "    .dataframe tbody tr th {\n",
       "        vertical-align: top;\n",
       "    }\n",
       "\n",
       "    .dataframe thead th {\n",
       "        text-align: right;\n",
       "    }\n",
       "</style>\n",
       "<table border=\"1\" class=\"dataframe\">\n",
       "  <thead>\n",
       "    <tr style=\"text-align: right;\">\n",
       "      <th></th>\n",
       "      <th>Turno_Numero</th>\n",
       "    </tr>\n",
       "  </thead>\n",
       "  <tbody>\n",
       "    <tr>\n",
       "      <th>13</th>\n",
       "      <td>2</td>\n",
       "    </tr>\n",
       "    <tr>\n",
       "      <th>14</th>\n",
       "      <td>1</td>\n",
       "    </tr>\n",
       "    <tr>\n",
       "      <th>15</th>\n",
       "      <td>1</td>\n",
       "    </tr>\n",
       "    <tr>\n",
       "      <th>16</th>\n",
       "      <td>0</td>\n",
       "    </tr>\n",
       "    <tr>\n",
       "      <th>17</th>\n",
       "      <td>0</td>\n",
       "    </tr>\n",
       "  </tbody>\n",
       "</table>\n",
       "</div>"
      ],
      "text/plain": [
       "   Turno_Numero\n",
       "13            2\n",
       "14            1\n",
       "15            1\n",
       "16            0\n",
       "17            0"
      ]
     },
     "execution_count": 22,
     "metadata": {},
     "output_type": "execute_result"
    }
   ],
   "source": [
    "X = dfTran.drop(['Turno_Numero'],axis=1)\n",
    "y = dfTran[['Turno_Numero']]\n",
    "\n",
    "y.head()"
   ]
  },
  {
   "cell_type": "code",
   "execution_count": 23,
   "id": "b5a615d0",
   "metadata": {},
   "outputs": [
    {
     "data": {
      "text/html": [
       "<div>\n",
       "<style scoped>\n",
       "    .dataframe tbody tr th:only-of-type {\n",
       "        vertical-align: middle;\n",
       "    }\n",
       "\n",
       "    .dataframe tbody tr th {\n",
       "        vertical-align: top;\n",
       "    }\n",
       "\n",
       "    .dataframe thead th {\n",
       "        text-align: right;\n",
       "    }\n",
       "</style>\n",
       "<table border=\"1\" class=\"dataframe\">\n",
       "  <thead>\n",
       "    <tr style=\"text-align: right;\">\n",
       "      <th></th>\n",
       "      <th>Codi_districte</th>\n",
       "      <th>Mes_Numero</th>\n",
       "      <th>Dia_Numero</th>\n",
       "    </tr>\n",
       "  </thead>\n",
       "  <tbody>\n",
       "    <tr>\n",
       "      <th>13</th>\n",
       "      <td>1.0</td>\n",
       "      <td>0.636364</td>\n",
       "      <td>0.333333</td>\n",
       "    </tr>\n",
       "    <tr>\n",
       "      <th>14</th>\n",
       "      <td>1.0</td>\n",
       "      <td>0.454545</td>\n",
       "      <td>0.333333</td>\n",
       "    </tr>\n",
       "    <tr>\n",
       "      <th>15</th>\n",
       "      <td>1.0</td>\n",
       "      <td>0.454545</td>\n",
       "      <td>0.500000</td>\n",
       "    </tr>\n",
       "    <tr>\n",
       "      <th>16</th>\n",
       "      <td>1.0</td>\n",
       "      <td>0.727273</td>\n",
       "      <td>0.333333</td>\n",
       "    </tr>\n",
       "    <tr>\n",
       "      <th>17</th>\n",
       "      <td>1.0</td>\n",
       "      <td>0.363636</td>\n",
       "      <td>0.166667</td>\n",
       "    </tr>\n",
       "  </tbody>\n",
       "</table>\n",
       "</div>"
      ],
      "text/plain": [
       "   Codi_districte Mes_Numero Dia_Numero\n",
       "13            1.0   0.636364   0.333333\n",
       "14            1.0   0.454545   0.333333\n",
       "15            1.0   0.454545   0.500000\n",
       "16            1.0   0.727273   0.333333\n",
       "17            1.0   0.363636   0.166667"
      ]
     },
     "execution_count": 23,
     "metadata": {},
     "output_type": "execute_result"
    }
   ],
   "source": [
    "X.head()"
   ]
  },
  {
   "cell_type": "code",
   "execution_count": 24,
   "id": "2cf538f1",
   "metadata": {},
   "outputs": [
    {
     "name": "stdout",
     "output_type": "stream",
     "text": [
      "(18873, 3) (8089, 3) (18873, 1) (8089, 1)\n"
     ]
    }
   ],
   "source": [
    "from sklearn.model_selection import train_test_split\n",
    "\n",
    "X_train, X_test, y_train, y_test = train_test_split(X, y, random_state=0, train_size = 0.7)\n",
    "print(X_train.shape, X_test.shape, y_train.shape, y_test.shape)"
   ]
  },
  {
   "cell_type": "code",
   "execution_count": 31,
   "id": "fe5ac87f",
   "metadata": {},
   "outputs": [
    {
     "data": {
      "text/plain": [
       "1    13590\n",
       "0    10182\n",
       "2     3190\n",
       "Name: Turno_Numero, dtype: int64"
      ]
     },
     "execution_count": 31,
     "metadata": {},
     "output_type": "execute_result"
    }
   ],
   "source": [
    "dfTran['Turno_Numero'].value_counts()"
   ]
  },
  {
   "cell_type": "markdown",
   "id": "1f38b516",
   "metadata": {},
   "source": [
    "## Aplicación de modelos"
   ]
  },
  {
   "cell_type": "code",
   "execution_count": 25,
   "id": "f935ced1",
   "metadata": {},
   "outputs": [],
   "source": [
    "from sklearn.neighbors import KNeighborsClassifier\n",
    "KNN = KNeighborsClassifier()"
   ]
  },
  {
   "cell_type": "code",
   "execution_count": 26,
   "id": "7dae8bed",
   "metadata": {},
   "outputs": [],
   "source": [
    "from sklearn.linear_model import LogisticRegression\n",
    "LR = LogisticRegression(solver = 'lbfgs', random_state=42)"
   ]
  },
  {
   "cell_type": "code",
   "execution_count": 27,
   "id": "57030b1c",
   "metadata": {},
   "outputs": [],
   "source": [
    "from sklearn.svm import SVC\n",
    "SVC = SVC(kernel='linear')"
   ]
  },
  {
   "cell_type": "code",
   "execution_count": 28,
   "id": "2e8e968c",
   "metadata": {},
   "outputs": [],
   "source": [
    "from sklearn.ensemble import RandomForestClassifier\n",
    "RF = RandomForestClassifier(random_state=42)"
   ]
  },
  {
   "cell_type": "markdown",
   "id": "992d6604",
   "metadata": {},
   "source": [
    "Entrenamiento de los modelos"
   ]
  },
  {
   "cell_type": "code",
   "execution_count": 29,
   "id": "c46aae5d",
   "metadata": {},
   "outputs": [
    {
     "data": {
      "text/plain": [
       "RandomForestClassifier(random_state=42)"
      ]
     },
     "execution_count": 29,
     "metadata": {},
     "output_type": "execute_result"
    }
   ],
   "source": [
    "KNN.fit(X_train, y_train)\n",
    "LR.fit(X_train, y_train)\n",
    "SVC.fit(X_train, y_train)\n",
    "RF.fit(X_train, y_train)"
   ]
  },
  {
   "cell_type": "markdown",
   "id": "46ffd684",
   "metadata": {},
   "source": [
    "Predicción"
   ]
  },
  {
   "cell_type": "code",
   "execution_count": 30,
   "id": "b0c5fb20",
   "metadata": {},
   "outputs": [],
   "source": [
    "y_pred_KNN = KNN.predict(X_test)\n",
    "y_pred_LR = LR.predict(X_test)\n",
    "y_pred_SVC = SVC.predict(X_test)\n",
    "y_pred_RF = RF.predict(X_test)"
   ]
  },
  {
   "cell_type": "markdown",
   "id": "c5d3cd34",
   "metadata": {},
   "source": [
    "## Resultados"
   ]
  },
  {
   "cell_type": "code",
   "execution_count": 37,
   "id": "9105978f",
   "metadata": {},
   "outputs": [
    {
     "data": {
      "text/html": [
       "<div>\n",
       "<style scoped>\n",
       "    .dataframe tbody tr th:only-of-type {\n",
       "        vertical-align: middle;\n",
       "    }\n",
       "\n",
       "    .dataframe tbody tr th {\n",
       "        vertical-align: top;\n",
       "    }\n",
       "\n",
       "    .dataframe thead th {\n",
       "        text-align: right;\n",
       "    }\n",
       "</style>\n",
       "<table border=\"1\" class=\"dataframe\">\n",
       "  <thead>\n",
       "    <tr style=\"text-align: right;\">\n",
       "      <th></th>\n",
       "      <th>Modelo</th>\n",
       "      <th>Accuracy</th>\n",
       "      <th>F1</th>\n",
       "      <th>Recall</th>\n",
       "    </tr>\n",
       "  </thead>\n",
       "  <tbody>\n",
       "    <tr>\n",
       "      <th>0</th>\n",
       "      <td>KNN</td>\n",
       "      <td>0.46</td>\n",
       "      <td>0.33</td>\n",
       "      <td>0.34</td>\n",
       "    </tr>\n",
       "    <tr>\n",
       "      <th>1</th>\n",
       "      <td>LR</td>\n",
       "      <td>0.51</td>\n",
       "      <td>0.23</td>\n",
       "      <td>0.33</td>\n",
       "    </tr>\n",
       "    <tr>\n",
       "      <th>2</th>\n",
       "      <td>SVC</td>\n",
       "      <td>0.51</td>\n",
       "      <td>0.23</td>\n",
       "      <td>0.33</td>\n",
       "    </tr>\n",
       "    <tr>\n",
       "      <th>3</th>\n",
       "      <td>RF</td>\n",
       "      <td>0.48</td>\n",
       "      <td>0.33</td>\n",
       "      <td>0.34</td>\n",
       "    </tr>\n",
       "  </tbody>\n",
       "</table>\n",
       "</div>"
      ],
      "text/plain": [
       "  Modelo Accuracy    F1 Recall\n",
       "0    KNN     0.46  0.33   0.34\n",
       "1     LR     0.51  0.23   0.33\n",
       "2    SVC     0.51  0.23   0.33\n",
       "3     RF     0.48  0.33   0.34"
      ]
     },
     "execution_count": 37,
     "metadata": {},
     "output_type": "execute_result"
    }
   ],
   "source": [
    "#Accuracy\n",
    "acc_KNN = KNN.score(X_test, y_test)\n",
    "acc_LR = LR.score(X_test, y_test)\n",
    "acc_SVC = SVC.score(X_test, y_test)\n",
    "acc_RF = RF.score(X_test, y_test)\n",
    "\n",
    "\n",
    "acc_KNN = \"{:.2f}\".format(acc_KNN)\n",
    "acc_LR = \"{:.2f}\".format(acc_LR)\n",
    "acc_SVC = \"{:.2f}\".format(acc_SVC)\n",
    "acc_RF = \"{:.2f}\".format(acc_RF)\n",
    "\n",
    "\n",
    "#F1\n",
    "from sklearn.metrics import f1_score\n",
    "f1_KNN = f1_score(y_test, y_pred_KNN, average='macro')\n",
    "f1_LR = f1_score(y_test, y_pred_LR, average='macro')\n",
    "f1_SVC = f1_score(y_test, y_pred_SVC, average='macro')\n",
    "f1_RF = f1_score(y_test, y_pred_RF, average='macro')\n",
    "\n",
    "\n",
    "f1_KNN = \"{:.2f}\".format(f1_KNN)\n",
    "f1_LR = \"{:.2f}\".format(f1_LR)\n",
    "f1_SVC = \"{:.2f}\".format(f1_SVC)\n",
    "f1_RF = \"{:.2f}\".format(f1_RF)\n",
    "\n",
    "#recall\n",
    "from sklearn.metrics import recall_score\n",
    "\n",
    "recall_KNN = recall_score(y_test, y_pred_KNN, average='macro')\n",
    "recall_LR = recall_score(y_test, y_pred_LR, average='macro')\n",
    "recall_SVC = recall_score(y_test, y_pred_SVC, average='macro')\n",
    "recall_RF = recall_score(y_test, y_pred_RF, average='macro')\n",
    "\n",
    "\n",
    "recall_KNN = \"{:.2f}\".format(recall_KNN)\n",
    "recall_LR = \"{:.2f}\".format(recall_LR)\n",
    "recall_SVC = \"{:.2f}\".format(recall_SVC)\n",
    "recall_RF = \"{:.2f}\".format(recall_RF)\n",
    "#cuadro de resultados\n",
    "resultados = pd.DataFrame( data = [['KNN', acc_KNN, f1_KNN, recall_KNN],\n",
    "                                [ 'LR', acc_LR, f1_LR, recall_LR],\n",
    "                                ['SVC', acc_SVC,f1_SVC, recall_SVC],\n",
    "                                ['RF', acc_RF, f1_RF, recall_RF]],\n",
    "                       columns = ['Modelo', 'Accuracy', 'F1', 'Recall'])\n",
    "\n",
    "\n",
    "resultados"
   ]
  },
  {
   "cell_type": "markdown",
   "id": "7af6e05a",
   "metadata": {},
   "source": [
    "Matatrices de confusión de cada modelo"
   ]
  },
  {
   "cell_type": "code",
   "execution_count": 32,
   "id": "1319af25",
   "metadata": {},
   "outputs": [],
   "source": [
    "from sklearn import metrics\n",
    "from sklearn.metrics import confusion_matrix"
   ]
  },
  {
   "cell_type": "code",
   "execution_count": 70,
   "id": "8df381de",
   "metadata": {},
   "outputs": [
    {
     "data": {
      "text/plain": [
       "Text(0.5, 320.8, 'Predicción')"
      ]
     },
     "execution_count": 70,
     "metadata": {},
     "output_type": "execute_result"
    },
    {
     "data": {
      "image/png": "[encoded data removed]",
      "text/plain": [
       "<Figure size 576x360 with 2 Axes>"
      ]
     },
     "metadata": {},
     "output_type": "display_data"
    }
   ],
   "source": [
    "KNN_matrix = metrics.confusion_matrix(y_test, y_pred_KNN)\n",
    "\n",
    "class_names=[0,1] # name  of classes\n",
    "fig, ax = plt.subplots()\n",
    "tick_marks = np.arange(len(class_names))\n",
    "plt.xticks(tick_marks, class_names)\n",
    "plt.yticks(tick_marks, class_names)\n",
    "\n",
    "# create heatmap\n",
    "sns.heatmap(pd.DataFrame(KNN_matrix), annot=True, cmap=\"YlGnBu\" ,fmt='g')\n",
    "ax.xaxis.set_label_position(\"top\")\n",
    "plt.tight_layout()\n",
    "plt.title('Matriz de confusión de KNN', y=1.1)\n",
    "plt.ylabel('Nivel Real')\n",
    "plt.xlabel('Predicción')"
   ]
  },
  {
   "cell_type": "code",
   "execution_count": 71,
   "id": "307877db",
   "metadata": {},
   "outputs": [
    {
     "data": {
      "text/plain": [
       "Text(0.5, 320.8, 'Predicción')"
      ]
     },
     "execution_count": 71,
     "metadata": {},
     "output_type": "execute_result"
    },
    {
     "data": {
      "image/png": "[encoded data removed]",
      "text/plain": [
       "<Figure size 576x360 with 2 Axes>"
      ]
     },
     "metadata": {},
     "output_type": "display_data"
    }
   ],
   "source": [
    "LR_matrix = metrics.confusion_matrix(y_test, y_pred_LR)\n",
    "\n",
    "class_names=[0,1] # name  of classes\n",
    "fig, ax = plt.subplots()\n",
    "tick_marks = np.arange(len(class_names))\n",
    "plt.xticks(tick_marks, class_names)\n",
    "plt.yticks(tick_marks, class_names)\n",
    "\n",
    "# create heatmap\n",
    "sns.heatmap(pd.DataFrame(LR_matrix), annot=True, cmap=\"YlGnBu\" ,fmt='g')\n",
    "ax.xaxis.set_label_position(\"top\")\n",
    "plt.tight_layout()\n",
    "plt.title('Matriz de confusión de LR', y=1.1)\n",
    "plt.ylabel('Nivel Real')\n",
    "plt.xlabel('Predicción')"
   ]
  },
  {
   "cell_type": "code",
   "execution_count": 72,
   "id": "292d2ab1",
   "metadata": {},
   "outputs": [
    {
     "data": {
      "text/plain": [
       "Text(0.5, 320.8, 'Predicción')"
      ]
     },
     "execution_count": 72,
     "metadata": {},
     "output_type": "execute_result"
    },
    {
     "data": {
      "image/png": "[encoded data removed]",
      "text/plain": [
       "<Figure size 576x360 with 2 Axes>"
      ]
     },
     "metadata": {},
     "output_type": "display_data"
    }
   ],
   "source": [
    "SVC_matrix = metrics.confusion_matrix(y_test, y_pred_SVC)\n",
    "\n",
    "\n",
    "class_names=[0,1] # name  of classes\n",
    "fig, ax = plt.subplots()\n",
    "tick_marks = np.arange(len(class_names))\n",
    "plt.xticks(tick_marks, class_names)\n",
    "plt.yticks(tick_marks, class_names)\n",
    "\n",
    "# create heatmap\n",
    "sns.heatmap(pd.DataFrame(SVC_matrix), annot=True, cmap=\"YlGnBu\" ,fmt='g')\n",
    "ax.xaxis.set_label_position(\"top\")\n",
    "plt.tight_layout()\n",
    "plt.title('Matriz de confusión de SVC', y=1.1)\n",
    "plt.ylabel('Nivel Real')\n",
    "plt.xlabel('Predicción')"
   ]
  },
  {
   "cell_type": "code",
   "execution_count": 73,
   "id": "291168b1",
   "metadata": {},
   "outputs": [
    {
     "data": {
      "text/plain": [
       "Text(0.5, 320.8, 'Predicción')"
      ]
     },
     "execution_count": 73,
     "metadata": {},
     "output_type": "execute_result"
    },
    {
     "data": {
      "image/png": "[encoded data removed]",
      "text/plain": [
       "<Figure size 576x360 with 2 Axes>"
      ]
     },
     "metadata": {},
     "output_type": "display_data"
    }
   ],
   "source": [
    "RF_matrix = metrics.confusion_matrix(y_test, y_pred_RF)\n",
    "\n",
    "class_names=[0,1] # name  of classes\n",
    "fig, ax = plt.subplots()\n",
    "tick_marks = np.arange(len(class_names))\n",
    "plt.xticks(tick_marks, class_names)\n",
    "plt.yticks(tick_marks, class_names)\n",
    "\n",
    "# create heatmap\n",
    "sns.heatmap(pd.DataFrame(RF_matrix), annot=True, cmap=\"YlGnBu\" ,fmt='g')\n",
    "ax.xaxis.set_label_position(\"top\")\n",
    "plt.tight_layout()\n",
    "plt.title('Matriz de confusión de RF', y=1.1)\n",
    "plt.ylabel('Nivel Real')\n",
    "plt.xlabel('Predicción')"
   ]
  },
  {
   "cell_type": "markdown",
   "id": "9e92ce07",
   "metadata": {},
   "source": [
    "Cross Validation"
   ]
  },
  {
   "cell_type": "code",
   "execution_count": 38,
   "id": "afdaeb47",
   "metadata": {},
   "outputs": [
    {
     "data": {
      "text/html": [
       "<div>\n",
       "<style scoped>\n",
       "    .dataframe tbody tr th:only-of-type {\n",
       "        vertical-align: middle;\n",
       "    }\n",
       "\n",
       "    .dataframe tbody tr th {\n",
       "        vertical-align: top;\n",
       "    }\n",
       "\n",
       "    .dataframe thead th {\n",
       "        text-align: right;\n",
       "    }\n",
       "</style>\n",
       "<table border=\"1\" class=\"dataframe\">\n",
       "  <thead>\n",
       "    <tr style=\"text-align: right;\">\n",
       "      <th></th>\n",
       "      <th>Modelo</th>\n",
       "      <th>Accuracy</th>\n",
       "      <th>F1</th>\n",
       "      <th>Recall</th>\n",
       "      <th>Cross Validation</th>\n",
       "    </tr>\n",
       "  </thead>\n",
       "  <tbody>\n",
       "    <tr>\n",
       "      <th>0</th>\n",
       "      <td>KNN</td>\n",
       "      <td>0.46</td>\n",
       "      <td>0.33</td>\n",
       "      <td>0.34</td>\n",
       "      <td>0.34</td>\n",
       "    </tr>\n",
       "    <tr>\n",
       "      <th>1</th>\n",
       "      <td>LR</td>\n",
       "      <td>0.51</td>\n",
       "      <td>0.23</td>\n",
       "      <td>0.33</td>\n",
       "      <td>0.22</td>\n",
       "    </tr>\n",
       "    <tr>\n",
       "      <th>2</th>\n",
       "      <td>SVC</td>\n",
       "      <td>0.51</td>\n",
       "      <td>0.23</td>\n",
       "      <td>0.33</td>\n",
       "      <td>0.22</td>\n",
       "    </tr>\n",
       "    <tr>\n",
       "      <th>3</th>\n",
       "      <td>RF</td>\n",
       "      <td>0.48</td>\n",
       "      <td>0.33</td>\n",
       "      <td>0.34</td>\n",
       "      <td>0.33</td>\n",
       "    </tr>\n",
       "  </tbody>\n",
       "</table>\n",
       "</div>"
      ],
      "text/plain": [
       "  Modelo Accuracy    F1 Recall Cross Validation\n",
       "0    KNN     0.46  0.33   0.34             0.34\n",
       "1     LR     0.51  0.23   0.33             0.22\n",
       "2    SVC     0.51  0.23   0.33             0.22\n",
       "3     RF     0.48  0.33   0.34             0.33"
      ]
     },
     "execution_count": 38,
     "metadata": {},
     "output_type": "execute_result"
    }
   ],
   "source": [
    "from sklearn.model_selection import cross_val_score\n",
    "from sklearn.svm import SVC\n",
    "\n",
    "#se reinicializan los modelos para evitar over fitting\n",
    "KNN = KNeighborsClassifier()\n",
    "LR = LogisticRegression(solver = 'lbfgs', random_state=42)\n",
    "SVC = SVC(kernel='linear') \n",
    "RF = RandomForestClassifier(random_state=42)\n",
    "\n",
    "cv_KNN = cross_val_score(KNN, X, y, cv=5, scoring='f1_macro')\n",
    "cv_LR = cross_val_score(LR, X, y, cv=5, scoring='f1_macro')\n",
    "cv_SVC = cross_val_score(SVC, X, y, cv=5, scoring='f1_macro')\n",
    "cv_RF = cross_val_score(RF, X, y, cv=5, scoring='f1_macro')\n",
    "\n",
    "cv_KNN = \"{:.2f}\".format(cv_KNN.mean())\n",
    "cv_LR = \"{:.2f}\".format(cv_LR.mean())\n",
    "cv_SVC = \"{:.2f}\".format(cv_SVC.mean())\n",
    "cv_RF = \"{:.2f}\".format(cv_RF.mean())\n",
    "\n",
    "cv = [cv_KNN, cv_LR, cv_SVC, cv_RF]\n",
    "resultados['Cross Validation'] = cv\n",
    "\n",
    "resultados"
   ]
  },
  {
   "cell_type": "markdown",
   "id": "4e126053",
   "metadata": {},
   "source": [
    "Se seleccionan los modelos de RF y KNN que, si bien tienen una accuracy un poco menor muestran en la matriz de confusión una distribución más correcta de las muestaras"
   ]
  },
  {
   "cell_type": "markdown",
   "id": "afe2eb48",
   "metadata": {},
   "source": [
    "## Mejora de parámetros"
   ]
  },
  {
   "cell_type": "code",
   "execution_count": 39,
   "id": "bcf8dd94",
   "metadata": {},
   "outputs": [
    {
     "name": "stdout",
     "output_type": "stream",
     "text": [
      "Fitting 5 folds for each of 100 candidates, totalling 500 fits\n"
     ]
    },
    {
     "data": {
      "text/plain": [
       "RandomizedSearchCV(cv=5, estimator=RandomForestClassifier(random_state=42),\n",
       "                   n_iter=100, n_jobs=-1,\n",
       "                   param_distributions={'bootstrap': [True, False],\n",
       "                                        'max_depth': [10, 20, 30, 40, 50, 60,\n",
       "                                                      70, 80, 90, 100, 110,\n",
       "                                                      None],\n",
       "                                        'max_features': ['auto', 'sqrt'],\n",
       "                                        'min_samples_leaf': [1, 2, 4],\n",
       "                                        'min_samples_split': [2, 5, 10],\n",
       "                                        'n_estimators': [200, 288, 377, 466,\n",
       "                                                         555, 644, 733, 822,\n",
       "                                                         911, 1000]},\n",
       "                   random_state=42, scoring='neg_mean_absolute_error',\n",
       "                   verbose=2)"
      ]
     },
     "execution_count": 39,
     "metadata": {},
     "output_type": "execute_result"
    }
   ],
   "source": [
    "from sklearn.model_selection import RandomizedSearchCV\n",
    "\n",
    "n_estimators = [int(x) for x in np.linspace(start = 200, stop = 1000, num = 10)]\n",
    "max_features = ['auto', 'sqrt']\n",
    "max_depth = [int(x) for x in np.linspace(10, 110, num = 11)]\n",
    "max_depth.append(None)\n",
    "min_samples_split = [2, 5, 10]\n",
    "min_samples_leaf = [1, 2, 4]\n",
    "bootstrap = [True, False]\n",
    "\n",
    "\n",
    "random_grid = {'n_estimators': n_estimators,\n",
    "                'max_features': max_features,\n",
    "                'max_depth': max_depth,\n",
    "                'min_samples_split': min_samples_split,\n",
    "                'min_samples_leaf': min_samples_leaf,\n",
    "                'bootstrap': bootstrap}\n",
    "\n",
    "rf = RandomForestClassifier(random_state=42)\n",
    "\n",
    "rf_random = RandomizedSearchCV(estimator = rf,\n",
    "                                param_distributions = random_grid,\n",
    "                                n_iter = 100, \n",
    "                                cv = 5, \n",
    "                                scoring='neg_mean_absolute_error', \n",
    "                                verbose=2, \n",
    "                                random_state=42, \n",
    "                                n_jobs = -1)\n",
    "\n",
    "\n",
    "rf_random.fit(X,y.values.ravel())"
   ]
  },
  {
   "cell_type": "code",
   "execution_count": 40,
   "id": "9bf2508b",
   "metadata": {},
   "outputs": [],
   "source": [
    "RF_BP = RandomForestClassifier(random_state=42, n_estimators = 1000, min_samples_split = 5, min_samples_leaf = 4, \n",
    "                               max_features = 'auto', max_depth = None, bootstrap = True)\n",
    "RF_BP.fit(X_train, y_train)\n",
    "y_pred_RF_BP = RF_BP.predict(X_test)"
   ]
  },
  {
   "cell_type": "code",
   "execution_count": 41,
   "id": "15061b46",
   "metadata": {},
   "outputs": [],
   "source": [
    "acc_RF_BP = RF_BP.score(X_test, y_test)\n",
    "acc_RF_BP = \"{:.2f}\".format(acc_RF_BP)\n",
    "\n",
    "f1_RF_BP = f1_score(y_test, y_pred_RF_BP, average='macro')\n",
    "f1_RF_BP = \"{:.2f}\".format(f1_RF_BP)\n",
    "\n",
    "recall_RF_BP = recall_score(y_test, y_pred_RF_BP, average='macro')\n",
    "recall_RF_BP = \"{:.2f}\".format(recall_RF_BP)\n",
    "\n",
    "#se reinicializa el modelo para evitar over fitting\n",
    "RF_BP = RandomForestClassifier(random_state=42, n_estimators = 911, min_samples_split = 2, min_samples_leaf = 2, \n",
    "                               max_features = 'auto', max_depth = None, bootstrap = True)\n",
    "cv_RF_BP = cross_val_score(RF_BP, X, y, cv=5, scoring='f1_macro')\n",
    "cv_RF_BP = \"{:.2f}\".format(cv_RF_BP.mean())"
   ]
  },
  {
   "cell_type": "markdown",
   "id": "96133b38",
   "metadata": {},
   "source": [
    "Matriz de Confusión con mejores parámetros"
   ]
  },
  {
   "cell_type": "code",
   "execution_count": 42,
   "id": "87137f53",
   "metadata": {},
   "outputs": [
    {
     "data": {
      "text/plain": [
       "Text(0.5, 320.8, 'Predicción')"
      ]
     },
     "execution_count": 42,
     "metadata": {},
     "output_type": "execute_result"
    },
    {
     "data": {
      "image/png": "[encoded data removed]",
      "text/plain": [
       "<Figure size 576x360 with 2 Axes>"
      ]
     },
     "metadata": {},
     "output_type": "display_data"
    }
   ],
   "source": [
    "RF_BP_matrix = metrics.confusion_matrix(y_test, y_pred_RF_BP)\n",
    "\n",
    "class_names=[0,1] # name  of classes\n",
    "fig, ax = plt.subplots()\n",
    "tick_marks = np.arange(len(class_names))\n",
    "plt.xticks(tick_marks, class_names)\n",
    "plt.yticks(tick_marks, class_names)\n",
    "\n",
    "# create heatmap\n",
    "sns.heatmap(pd.DataFrame(RF_BP_matrix), annot=True, cmap=\"YlGnBu\" ,fmt='g')\n",
    "ax.xaxis.set_label_position(\"top\")\n",
    "plt.tight_layout()\n",
    "plt.title('Matriz de confusión', y=1.1)\n",
    "plt.ylabel('Nivel Real')\n",
    "plt.xlabel('Predicción')"
   ]
  },
  {
   "cell_type": "code",
   "execution_count": 43,
   "id": "4928b998",
   "metadata": {},
   "outputs": [],
   "source": [
    "f1s = []\n",
    "\n",
    "# Calculating f1 score for K values between 1 and 40\n",
    "for i in range(1, 40):\n",
    "    knn = KNeighborsClassifier(n_neighbors=i)\n",
    "    knn.fit(X_train, y_train)\n",
    "    pred_i = knn.predict(X_test)\n",
    "    # using average='weighted' to calculate a weighted average for the 4 classes \n",
    "    f1s.append(f1_score(y_test, pred_i, average='weighted'))"
   ]
  },
  {
   "cell_type": "code",
   "execution_count": 44,
   "id": "a775e504",
   "metadata": {},
   "outputs": [
    {
     "data": {
      "text/plain": [
       "Text(0, 0.5, 'F1 Score')"
      ]
     },
     "execution_count": 44,
     "metadata": {},
     "output_type": "execute_result"
    },
    {
     "data": {
      "image/png": "[encoded data removed]",
      "text/plain": [
       "<Figure size 864x432 with 1 Axes>"
      ]
     },
     "metadata": {},
     "output_type": "display_data"
    }
   ],
   "source": [
    "plt.figure(figsize=(12, 6))\n",
    "plt.plot(range(1, 40), f1s, color='red', linestyle='dashed', marker='o',\n",
    "         markerfacecolor='blue', markersize=10)\n",
    "plt.title('F1 Score K Value')\n",
    "plt.xlabel('K Value')\n",
    "plt.ylabel('F1 Score')"
   ]
  },
  {
   "cell_type": "code",
   "execution_count": 45,
   "id": "a05329ed",
   "metadata": {},
   "outputs": [],
   "source": [
    "KNN_BP = KNeighborsClassifier(n_neighbors=14)\n",
    "KNN_BP.fit(X_train, y_train)\n",
    "y_pred_KNN_BP = KNN_BP.predict(X_test)"
   ]
  },
  {
   "cell_type": "code",
   "execution_count": 46,
   "id": "abdb30ba",
   "metadata": {},
   "outputs": [],
   "source": [
    "acc_KNN_BP = KNN_BP.score(X_test, y_test)\n",
    "acc_KNN_BP = \"{:.2f}\".format(acc_KNN_BP)\n",
    "\n",
    "acc_KNN_BP = KNN_BP.score(X_test, y_test)\n",
    "acc_KNN_BP = \"{:.2f}\".format(acc_KNN_BP)\n",
    "\n",
    "f1_KNN_BP = f1_score(y_test, y_pred_KNN_BP, average='macro')\n",
    "f1_KNN_BP = \"{:.2f}\".format(f1_KNN_BP)\n",
    "\n",
    "recall_KNN_BP = recall_score(y_test, y_pred_KNN_BP, average='macro')\n",
    "recall_KNN_BP = \"{:.2f}\".format(recall_KNN_BP)\n",
    "\n",
    "#se reinicializa el modelo para evitar over fitting\n",
    "KNN_BP = KNeighborsClassifier(n_neighbors=14)\n",
    "cv_KNN_BP = cross_val_score(KNN_BP, X, y, cv=5, scoring='f1_macro')\n",
    "cv_KNN_BP = \"{:.2f}\".format(cv_KNN_BP.mean())"
   ]
  },
  {
   "cell_type": "code",
   "execution_count": 47,
   "id": "6df15d05",
   "metadata": {},
   "outputs": [
    {
     "data": {
      "text/plain": [
       "Text(0.5, 320.8, 'Predicción')"
      ]
     },
     "execution_count": 47,
     "metadata": {},
     "output_type": "execute_result"
    },
    {
     "data": {
      "image/png": "[encoded data removed]",
      "text/plain": [
       "<Figure size 576x360 with 2 Axes>"
      ]
     },
     "metadata": {},
     "output_type": "display_data"
    }
   ],
   "source": [
    "KNN_BP_matrix = metrics.confusion_matrix(y_test, y_pred_KNN_BP)\n",
    "\n",
    "class_names=[0,1] # name  of classes\n",
    "fig, ax = plt.subplots()\n",
    "tick_marks = np.arange(len(class_names))\n",
    "plt.xticks(tick_marks, class_names)\n",
    "plt.yticks(tick_marks, class_names)\n",
    "\n",
    "# create heatmap\n",
    "sns.heatmap(pd.DataFrame(KNN_BP_matrix), annot=True, cmap=\"YlGnBu\" ,fmt='g')\n",
    "ax.xaxis.set_label_position(\"top\")\n",
    "plt.tight_layout()\n",
    "plt.title('Matriz de confusión', y=1.1)\n",
    "plt.ylabel('Nivel Real')\n",
    "plt.xlabel('Predicción')"
   ]
  },
  {
   "cell_type": "code",
   "execution_count": 48,
   "id": "9d61222c",
   "metadata": {},
   "outputs": [
    {
     "data": {
      "text/html": [
       "<div>\n",
       "<style scoped>\n",
       "    .dataframe tbody tr th:only-of-type {\n",
       "        vertical-align: middle;\n",
       "    }\n",
       "\n",
       "    .dataframe tbody tr th {\n",
       "        vertical-align: top;\n",
       "    }\n",
       "\n",
       "    .dataframe thead th {\n",
       "        text-align: right;\n",
       "    }\n",
       "</style>\n",
       "<table border=\"1\" class=\"dataframe\">\n",
       "  <thead>\n",
       "    <tr style=\"text-align: right;\">\n",
       "      <th></th>\n",
       "      <th>Modelo</th>\n",
       "      <th>Accuracy</th>\n",
       "      <th>F1</th>\n",
       "      <th>Recall</th>\n",
       "      <th>Cross Validation</th>\n",
       "    </tr>\n",
       "  </thead>\n",
       "  <tbody>\n",
       "    <tr>\n",
       "      <th>0</th>\n",
       "      <td>KNN</td>\n",
       "      <td>0.46</td>\n",
       "      <td>0.33</td>\n",
       "      <td>0.34</td>\n",
       "      <td>0.34</td>\n",
       "    </tr>\n",
       "    <tr>\n",
       "      <th>1</th>\n",
       "      <td>LR</td>\n",
       "      <td>0.51</td>\n",
       "      <td>0.23</td>\n",
       "      <td>0.33</td>\n",
       "      <td>0.22</td>\n",
       "    </tr>\n",
       "    <tr>\n",
       "      <th>2</th>\n",
       "      <td>SVC</td>\n",
       "      <td>0.51</td>\n",
       "      <td>0.23</td>\n",
       "      <td>0.33</td>\n",
       "      <td>0.22</td>\n",
       "    </tr>\n",
       "    <tr>\n",
       "      <th>3</th>\n",
       "      <td>RF</td>\n",
       "      <td>0.48</td>\n",
       "      <td>0.33</td>\n",
       "      <td>0.34</td>\n",
       "      <td>0.33</td>\n",
       "    </tr>\n",
       "    <tr>\n",
       "      <th>4</th>\n",
       "      <td>RF Best Parameter</td>\n",
       "      <td>0.48</td>\n",
       "      <td>0.33</td>\n",
       "      <td>0.34</td>\n",
       "      <td>0.33</td>\n",
       "    </tr>\n",
       "    <tr>\n",
       "      <th>5</th>\n",
       "      <td>KNN Best Parameter</td>\n",
       "      <td>0.47</td>\n",
       "      <td>0.33</td>\n",
       "      <td>0.35</td>\n",
       "      <td>0.34</td>\n",
       "    </tr>\n",
       "  </tbody>\n",
       "</table>\n",
       "</div>"
      ],
      "text/plain": [
       "               Modelo Accuracy    F1 Recall Cross Validation\n",
       "0                 KNN     0.46  0.33   0.34             0.34\n",
       "1                  LR     0.51  0.23   0.33             0.22\n",
       "2                 SVC     0.51  0.23   0.33             0.22\n",
       "3                  RF     0.48  0.33   0.34             0.33\n",
       "4   RF Best Parameter     0.48  0.33   0.34             0.33\n",
       "5  KNN Best Parameter     0.47  0.33   0.35             0.34"
      ]
     },
     "execution_count": 48,
     "metadata": {},
     "output_type": "execute_result"
    }
   ],
   "source": [
    "resultados.loc[4]= ['RF Best Parameter', acc_RF_BP, f1_RF_BP, recall_RF_BP, cv_RF_BP]\n",
    "resultados.loc[5]= ['KNN Best Parameter', acc_KNN_BP, f1_KNN_BP, recall_KNN_BP, cv_KNN_BP]\n",
    "\n",
    "resultados"
   ]
  },
  {
   "cell_type": "markdown",
   "id": "6f54fe77",
   "metadata": {},
   "source": [
    "La mejora de parámetros del modelo KNN da una pequeña mejora"
   ]
  },
  {
   "cell_type": "markdown",
   "id": "7465ab71",
   "metadata": {},
   "source": [
    "## Balancear la muestea"
   ]
  },
  {
   "cell_type": "code",
   "execution_count": 49,
   "id": "953f7a79",
   "metadata": {},
   "outputs": [
    {
     "data": {
      "text/plain": [
       "Turno_Numero\n",
       "1               13590\n",
       "0               10182\n",
       "2                3190\n",
       "dtype: int64"
      ]
     },
     "execution_count": 49,
     "metadata": {},
     "output_type": "execute_result"
    }
   ],
   "source": [
    "y.value_counts()"
   ]
  },
  {
   "cell_type": "code",
   "execution_count": 50,
   "id": "e61672e6",
   "metadata": {},
   "outputs": [
    {
     "data": {
      "image/png": "[encoded data removed]",
      "text/plain": [
       "<Figure size 576x360 with 1 Axes>"
      ]
     },
     "metadata": {},
     "output_type": "display_data"
    }
   ],
   "source": [
    "count_classes = pd.value_counts(y['Turno_Numero'], sort = True)\n",
    "count_classes.plot(kind = 'bar', rot=0)\n",
    "plt.title(\"Cantidad de cada clase en la muestra total\")\n",
    "plt.xlabel(\"Clases\")\n",
    "plt.ylabel(\"Turnos\");"
   ]
  },
  {
   "cell_type": "code",
   "execution_count": 51,
   "id": "a8cf668a",
   "metadata": {},
   "outputs": [
    {
     "data": {
      "text/plain": [
       "Turno_Numero\n",
       "1               9466\n",
       "0               7135\n",
       "2               2272\n",
       "dtype: int64"
      ]
     },
     "execution_count": 51,
     "metadata": {},
     "output_type": "execute_result"
    }
   ],
   "source": [
    "y_train.value_counts()"
   ]
  },
  {
   "cell_type": "code",
   "execution_count": 52,
   "id": "64c0d7f5",
   "metadata": {},
   "outputs": [
    {
     "data": {
      "image/png": "[encoded data removed]",
      "text/plain": [
       "<Figure size 576x360 with 1 Axes>"
      ]
     },
     "metadata": {},
     "output_type": "display_data"
    }
   ],
   "source": [
    "count_classes = pd.value_counts(y_train['Turno_Numero'], sort = True)\n",
    "count_classes.plot(kind = 'bar', rot=0)\n",
    "plt.title(\"Cantidad de cada clase en la muestra de entrenamiento\")\n",
    "plt.xlabel(\"Clases\")\n",
    "plt.ylabel(\"Turnos\");"
   ]
  },
  {
   "cell_type": "code",
   "execution_count": 53,
   "id": "b973280a",
   "metadata": {},
   "outputs": [
    {
     "data": {
      "text/plain": [
       "0    9466\n",
       "1    9466\n",
       "2    9466\n",
       "Name: Turno_Numero, dtype: int64"
      ]
     },
     "execution_count": 53,
     "metadata": {},
     "output_type": "execute_result"
    }
   ],
   "source": [
    "from imblearn.over_sampling import RandomOverSampler\n",
    "\n",
    "oversample = RandomOverSampler(sampling_strategy='auto')\n",
    "X_over, y_over = oversample.fit_resample(X_train, y_train)\n",
    "y_over['Turno_Numero'].value_counts()"
   ]
  },
  {
   "cell_type": "code",
   "execution_count": 54,
   "id": "67852ef0",
   "metadata": {},
   "outputs": [
    {
     "data": {
      "image/png": "[encoded data removed]",
      "text/plain": [
       "<Figure size 576x360 with 1 Axes>"
      ]
     },
     "metadata": {},
     "output_type": "display_data"
    }
   ],
   "source": [
    "count_classes = pd.value_counts(y_over['Turno_Numero'], sort = True)\n",
    "count_classes.plot(kind = 'bar', rot=0)\n",
    "plt.title(\"Cantidad de cada clase en la muestra balanceada\")\n",
    "plt.xlabel(\"Clases\")\n",
    "plt.ylabel(\"Turnos\");"
   ]
  },
  {
   "cell_type": "code",
   "execution_count": 55,
   "id": "65b0e79f",
   "metadata": {},
   "outputs": [],
   "source": [
    "RF_BAL = RandomForestClassifier(random_state=42, n_estimators = 911, min_samples_split = 2, min_samples_leaf = 2, \n",
    "                               max_features = 'auto', max_depth = None, bootstrap = True)\n",
    "RF_BAL.fit(X_over, y_over)\n",
    "y_pred_RF_BAL = RF_BAL.predict(X_test)"
   ]
  },
  {
   "cell_type": "code",
   "execution_count": 56,
   "id": "8726474d",
   "metadata": {},
   "outputs": [],
   "source": [
    "acc_RF_BAL = RF_BAL.score(X_test, y_test)\n",
    "acc_RF_BAL = \"{:.2f}\".format(acc_RF_BAL)\n",
    "\n",
    "f1_RF_BAL = f1_score(y_test, y_pred_RF_BAL, average='macro')\n",
    "f1_RF_BAL = \"{:.2f}\".format(f1_RF_BAL)\n",
    "\n",
    "recall_RF_BAL = recall_score(y_test, y_pred_RF_BAL, average='macro')\n",
    "recall_RF_BAL = \"{:.2f}\".format(recall_RF_BAL)\n",
    "\n",
    "#se reinicializa el modelo para evitar over fitting\n",
    "RF_BAL = RandomForestClassifier(random_state=42, n_estimators = 911, min_samples_split = 2, min_samples_leaf = 2, \n",
    "                               max_features = 'auto', max_depth = None, bootstrap = True)\n",
    "cv_RF_BAL = cross_val_score(RF_BAL, X, y, cv=5, scoring='f1_macro')\n",
    "cv_RF_BAL = \"{:.2f}\".format(cv_RF_BAL.mean())"
   ]
  },
  {
   "cell_type": "code",
   "execution_count": 57,
   "id": "714296f4",
   "metadata": {},
   "outputs": [],
   "source": [
    "KNN_BAL = KNeighborsClassifier(n_neighbors=14)\n",
    "KNN_BAL.fit(X_over, y_over)\n",
    "y_pred_KNN_BAL = KNN_BAL.predict(X_test)"
   ]
  },
  {
   "cell_type": "code",
   "execution_count": 58,
   "id": "c305469f",
   "metadata": {},
   "outputs": [],
   "source": [
    "acc_KNN_BAL = KNN_BAL.score(X_test, y_test)\n",
    "acc_KNN_BAL = \"{:.2f}\".format(acc_KNN_BAL)\n",
    "\n",
    "acc_KNN_BAL = KNN_BAL.score(X_test, y_test)\n",
    "acc_KNN_BAL = \"{:.2f}\".format(acc_KNN_BAL)\n",
    "\n",
    "f1_KNN_BAL = f1_score(y_test, y_pred_KNN_BAL, average='macro')\n",
    "f1_KNN_BAL = \"{:.2f}\".format(f1_KNN_BAL)\n",
    "\n",
    "recall_KNN_BAL = recall_score(y_test, y_pred_KNN_BAL, average='macro')\n",
    "recall_KNN_BAL = \"{:.2f}\".format(recall_KNN_BAL)\n",
    "\n",
    "#se reinicializa el modelo para evitar over fitting\n",
    "KNN_BAL = KNeighborsClassifier(n_neighbors=14)\n",
    "cv_KNN_BAL = cross_val_score(KNN_BAL, X, y, cv=5, scoring='f1_macro')\n",
    "cv_KNN_BAL = \"{:.2f}\".format(cv_KNN_BAL.mean())"
   ]
  },
  {
   "cell_type": "code",
   "execution_count": 59,
   "id": "814a756d",
   "metadata": {},
   "outputs": [
    {
     "data": {
      "text/html": [
       "<div>\n",
       "<style scoped>\n",
       "    .dataframe tbody tr th:only-of-type {\n",
       "        vertical-align: middle;\n",
       "    }\n",
       "\n",
       "    .dataframe tbody tr th {\n",
       "        vertical-align: top;\n",
       "    }\n",
       "\n",
       "    .dataframe thead th {\n",
       "        text-align: right;\n",
       "    }\n",
       "</style>\n",
       "<table border=\"1\" class=\"dataframe\">\n",
       "  <thead>\n",
       "    <tr style=\"text-align: right;\">\n",
       "      <th></th>\n",
       "      <th>Modelo</th>\n",
       "      <th>Accuracy</th>\n",
       "      <th>F1</th>\n",
       "      <th>Recall</th>\n",
       "      <th>Cross Validation</th>\n",
       "    </tr>\n",
       "  </thead>\n",
       "  <tbody>\n",
       "    <tr>\n",
       "      <th>0</th>\n",
       "      <td>KNN</td>\n",
       "      <td>0.46</td>\n",
       "      <td>0.33</td>\n",
       "      <td>0.34</td>\n",
       "      <td>0.34</td>\n",
       "    </tr>\n",
       "    <tr>\n",
       "      <th>1</th>\n",
       "      <td>LR</td>\n",
       "      <td>0.51</td>\n",
       "      <td>0.23</td>\n",
       "      <td>0.33</td>\n",
       "      <td>0.22</td>\n",
       "    </tr>\n",
       "    <tr>\n",
       "      <th>2</th>\n",
       "      <td>SVC</td>\n",
       "      <td>0.51</td>\n",
       "      <td>0.23</td>\n",
       "      <td>0.33</td>\n",
       "      <td>0.22</td>\n",
       "    </tr>\n",
       "    <tr>\n",
       "      <th>3</th>\n",
       "      <td>RF</td>\n",
       "      <td>0.48</td>\n",
       "      <td>0.33</td>\n",
       "      <td>0.34</td>\n",
       "      <td>0.33</td>\n",
       "    </tr>\n",
       "    <tr>\n",
       "      <th>4</th>\n",
       "      <td>RF Best Parameter</td>\n",
       "      <td>0.48</td>\n",
       "      <td>0.33</td>\n",
       "      <td>0.34</td>\n",
       "      <td>0.33</td>\n",
       "    </tr>\n",
       "    <tr>\n",
       "      <th>5</th>\n",
       "      <td>KNN Best Parameter</td>\n",
       "      <td>0.47</td>\n",
       "      <td>0.33</td>\n",
       "      <td>0.35</td>\n",
       "      <td>0.34</td>\n",
       "    </tr>\n",
       "    <tr>\n",
       "      <th>6</th>\n",
       "      <td>RF Balanced</td>\n",
       "      <td>0.36</td>\n",
       "      <td>0.34</td>\n",
       "      <td>0.39</td>\n",
       "      <td>0.33</td>\n",
       "    </tr>\n",
       "    <tr>\n",
       "      <th>7</th>\n",
       "      <td>KNN Balanced</td>\n",
       "      <td>0.46</td>\n",
       "      <td>0.37</td>\n",
       "      <td>0.36</td>\n",
       "      <td>0.34</td>\n",
       "    </tr>\n",
       "  </tbody>\n",
       "</table>\n",
       "</div>"
      ],
      "text/plain": [
       "               Modelo Accuracy    F1 Recall Cross Validation\n",
       "0                 KNN     0.46  0.33   0.34             0.34\n",
       "1                  LR     0.51  0.23   0.33             0.22\n",
       "2                 SVC     0.51  0.23   0.33             0.22\n",
       "3                  RF     0.48  0.33   0.34             0.33\n",
       "4   RF Best Parameter     0.48  0.33   0.34             0.33\n",
       "5  KNN Best Parameter     0.47  0.33   0.35             0.34\n",
       "6         RF Balanced     0.36  0.34   0.39             0.33\n",
       "7        KNN Balanced     0.46  0.37   0.36             0.34"
      ]
     },
     "execution_count": 59,
     "metadata": {},
     "output_type": "execute_result"
    }
   ],
   "source": [
    "resultados.loc[6]= ['RF Balanced', acc_RF_BAL, f1_RF_BAL, recall_RF_BAL, cv_RF_BAL]\n",
    "resultados.loc[7]= ['KNN Balanced', acc_KNN_BAL, f1_KNN_BAL, recall_KNN_BAL, cv_KNN_BAL]\n",
    "\n",
    "resultados"
   ]
  },
  {
   "cell_type": "markdown",
   "id": "112aa8fe",
   "metadata": {},
   "source": [
    "Balacear las muestra no da resultado"
   ]
  },
  {
   "cell_type": "markdown",
   "id": "4f9b8ab1",
   "metadata": {},
   "source": [
    "## Resultado Final"
   ]
  },
  {
   "cell_type": "code",
   "execution_count": 74,
   "id": "2506caea",
   "metadata": {},
   "outputs": [
    {
     "data": {
      "text/html": [
       "<div>\n",
       "<style scoped>\n",
       "    .dataframe tbody tr th:only-of-type {\n",
       "        vertical-align: middle;\n",
       "    }\n",
       "\n",
       "    .dataframe tbody tr th {\n",
       "        vertical-align: top;\n",
       "    }\n",
       "\n",
       "    .dataframe thead th {\n",
       "        text-align: right;\n",
       "    }\n",
       "</style>\n",
       "<table border=\"1\" class=\"dataframe\">\n",
       "  <thead>\n",
       "    <tr style=\"text-align: right;\">\n",
       "      <th></th>\n",
       "      <th>Modelo</th>\n",
       "      <th>Accuracy</th>\n",
       "      <th>F1</th>\n",
       "      <th>Recall</th>\n",
       "      <th>Cross Validation</th>\n",
       "    </tr>\n",
       "  </thead>\n",
       "  <tbody>\n",
       "    <tr>\n",
       "      <th>0</th>\n",
       "      <td>KNN</td>\n",
       "      <td>0.46</td>\n",
       "      <td>0.33</td>\n",
       "      <td>0.34</td>\n",
       "      <td>0.34</td>\n",
       "    </tr>\n",
       "    <tr>\n",
       "      <th>1</th>\n",
       "      <td>LR</td>\n",
       "      <td>0.51</td>\n",
       "      <td>0.23</td>\n",
       "      <td>0.33</td>\n",
       "      <td>0.22</td>\n",
       "    </tr>\n",
       "    <tr>\n",
       "      <th>2</th>\n",
       "      <td>SVC</td>\n",
       "      <td>0.51</td>\n",
       "      <td>0.23</td>\n",
       "      <td>0.33</td>\n",
       "      <td>0.22</td>\n",
       "    </tr>\n",
       "    <tr>\n",
       "      <th>3</th>\n",
       "      <td>RF</td>\n",
       "      <td>0.48</td>\n",
       "      <td>0.33</td>\n",
       "      <td>0.34</td>\n",
       "      <td>0.33</td>\n",
       "    </tr>\n",
       "    <tr>\n",
       "      <th>4</th>\n",
       "      <td>RF Best Parameter</td>\n",
       "      <td>0.48</td>\n",
       "      <td>0.33</td>\n",
       "      <td>0.34</td>\n",
       "      <td>0.33</td>\n",
       "    </tr>\n",
       "    <tr>\n",
       "      <th>5</th>\n",
       "      <td>KNN Best Parameter</td>\n",
       "      <td>0.47</td>\n",
       "      <td>0.33</td>\n",
       "      <td>0.35</td>\n",
       "      <td>0.34</td>\n",
       "    </tr>\n",
       "    <tr>\n",
       "      <th>6</th>\n",
       "      <td>RF Balanced</td>\n",
       "      <td>0.36</td>\n",
       "      <td>0.34</td>\n",
       "      <td>0.39</td>\n",
       "      <td>0.33</td>\n",
       "    </tr>\n",
       "    <tr>\n",
       "      <th>7</th>\n",
       "      <td>KNN Balanced</td>\n",
       "      <td>0.46</td>\n",
       "      <td>0.37</td>\n",
       "      <td>0.36</td>\n",
       "      <td>0.34</td>\n",
       "    </tr>\n",
       "  </tbody>\n",
       "</table>\n",
       "</div>"
      ],
      "text/plain": [
       "               Modelo Accuracy    F1 Recall Cross Validation\n",
       "0                 KNN     0.46  0.33   0.34             0.34\n",
       "1                  LR     0.51  0.23   0.33             0.22\n",
       "2                 SVC     0.51  0.23   0.33             0.22\n",
       "3                  RF     0.48  0.33   0.34             0.33\n",
       "4   RF Best Parameter     0.48  0.33   0.34             0.33\n",
       "5  KNN Best Parameter     0.47  0.33   0.35             0.34\n",
       "6         RF Balanced     0.36  0.34   0.39             0.33\n",
       "7        KNN Balanced     0.46  0.37   0.36             0.34"
      ]
     },
     "execution_count": 74,
     "metadata": {},
     "output_type": "execute_result"
    }
   ],
   "source": [
    "resultados"
   ]
  },
  {
   "cell_type": "markdown",
   "id": "ff7402cc",
   "metadata": {},
   "source": [
    "# Conclusión\n",
    "\n",
    "<div style=\"text-align:justify;\">Los resultados obtenidos son útiles tanto para la comunidad como para los agentes cívicos en tareas de prevención de accidentes. La capacidad de prever los momentos del día en los que son más probables los accidentes puede contribuir significativamente a la planificación de medidas preventivas. Aunque se logró una precisión modesta, los modelos desarrollados proporcionan una base sólida para futuros análisis y mejoras en la predicción de accidentes en la ciudad de Barcelona.</div>"
   ]
  }
 ],
 "metadata": {
  "hide_input": false,
  "kernelspec": {
   "display_name": "Python 3 (ipykernel)",
   "language": "python",
   "name": "python3"
  },
  "language_info": {
   "codemirror_mode": {
    "name": "ipython",
    "version": 3
   },
   "file_extension": ".py",
   "mimetype": "text/x-python",
   "name": "python",
   "nbconvert_exporter": "python",
   "pygments_lexer": "ipython3",
   "version": "3.9.12"
  },
  "nbTranslate": {
   "displayLangs": [
    "*"
   ],
   "hotkey": "alt-t",
   "langInMainMenu": true,
   "sourceLang": "en",
   "targetLang": "fr",
   "useGoogleTranslate": true
  },
  "toc": {
   "base_numbering": 1,
   "nav_menu": {},
   "number_sections": true,
   "sideBar": true,
   "skip_h1_title": false,
   "title_cell": "Table of Contents",
   "title_sidebar": "Contents",
   "toc_cell": false,
   "toc_position": {},
   "toc_section_display": true,
   "toc_window_display": false
  },
  "varInspector": {
   "cols": {
    "lenName": 16,
    "lenType": 16,
    "lenVar": 40
   },
   "kernels_config": {
    "python": {
     "delete_cmd_postfix": "",
     "delete_cmd_prefix": "del ",
     "library": "var_list.py",
     "varRefreshCmd": "print(var_dic_list())"
    },
    "r": {
     "delete_cmd_postfix": ") ",
     "delete_cmd_prefix": "rm(",
     "library": "var_list.r",
     "varRefreshCmd": "cat(var_dic_list()) "
    }
   },
   "types_to_exclude": [
    "module",
    "function",
    "builtin_function_or_method",
    "instance",
    "_Feature"
   ],
   "window_display": false
  }
 },
 "nbformat": 4,
 "nbformat_minor": 5
}
